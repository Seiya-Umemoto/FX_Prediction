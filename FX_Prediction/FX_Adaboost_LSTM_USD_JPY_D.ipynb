{
 "cells": [
  {
   "cell_type": "markdown",
   "metadata": {
    "colab_type": "text",
    "id": "RlGeihbcBtc0"
   },
   "source": [
    "# Use codes below when you allot process in GPU server"
   ]
  },
  {
   "cell_type": "code",
   "execution_count": 1,
   "metadata": {
    "colab": {
     "base_uri": "https://localhost:8080/",
     "height": 193
    },
    "colab_type": "code",
    "executionInfo": {
     "elapsed": 7138,
     "status": "ok",
     "timestamp": 1581349578470,
     "user": {
      "displayName": "Seiya Umemoto",
      "photoUrl": "https://lh3.googleusercontent.com/a-/AAuE7mDjt8hgMVauA7Pk87R7lj4ZmypVoo3K6ZQFSTivLQ=s64",
      "userId": "12558274179983877521"
     },
     "user_tz": -540
    },
    "id": "Uwnre8JGBtc2",
    "outputId": "25789704-ed60-48fd-fdf4-2ecfeccbda57"
   },
   "outputs": [
    {
     "name": "stdout",
     "output_type": "stream",
     "text": [
      "Collecting oandapyV20\n",
      "\u001b[?25l  Downloading https://files.pythonhosted.org/packages/0d/d5/f69c978f485db3048886c447398e39c6ec18041e689656e6d31697ea4e7f/oandapyV20-0.6.3.tar.gz (52kB)\n",
      "\u001b[K     |████████████████████████████████| 61kB 2.0MB/s \n",
      "\u001b[?25hBuilding wheels for collected packages: oandapyV20\n",
      "  Building wheel for oandapyV20 (setup.py) ... \u001b[?25l\u001b[?25hdone\n",
      "  Created wheel for oandapyV20: filename=oandapyV20-0.6.3-cp36-none-any.whl size=69742 sha256=8be2f5fefee36897e85471af143e86c983cee03b14d85a2ed761c630058971bb\n",
      "  Stored in directory: /root/.cache/pip/wheels/2c/b0/cd/49054320a6cc51db0ff4f1ee15d8840375f16cef57b81ebfc0\n",
      "Successfully built oandapyV20\n",
      "Installing collected packages: oandapyV20\n",
      "Successfully installed oandapyV20-0.6.3\n"
     ]
    }
   ],
   "source": [
    "# import os\n",
    "# os.environ[\"CUDA_DEVICE_ORDER\"] = \"PCI_BUS_ID\"\n",
    "# os.environ[\"CUDA_VISIBLE_DEVICES\"] = \"2\"\n",
    "# ! pip3 install oandapyV20"
   ]
  },
  {
   "cell_type": "markdown",
   "metadata": {
    "colab_type": "text",
    "id": "L-0rJ8MdBtc5"
   },
   "source": [
    "# Import necessary libaries"
   ]
  },
  {
   "cell_type": "code",
   "execution_count": 1,
   "metadata": {
    "colab": {},
    "colab_type": "code",
    "id": "HsBL8nL9Btc6"
   },
   "outputs": [],
   "source": [
    "import pandas as pd\n",
    "import numpy as np\n",
    "import matplotlib.pyplot as plt\n",
    "import oandapyV20"
   ]
  },
  {
   "cell_type": "markdown",
   "metadata": {
    "colab_type": "text",
    "id": "8B2TkSJSBtc8"
   },
   "source": [
    "# Read a CSV file and set 'time' column as indices"
   ]
  },
  {
   "cell_type": "code",
   "execution_count": 3,
   "metadata": {
    "colab": {
     "base_uri": "https://localhost:8080/",
     "height": 78,
     "resources": {
      "http://localhost:8080/nbextensions/google.colab/files.js": {
       "data": "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",
       "headers": [
        [
         "content-type",
         "application/javascript"
        ]
       ],
       "ok": true,
       "status": 200,
       "status_text": ""
      }
     }
    },
    "colab_type": "code",
    "executionInfo": {
     "elapsed": 17847,
     "status": "ok",
     "timestamp": 1581349589193,
     "user": {
      "displayName": "Seiya Umemoto",
      "photoUrl": "https://lh3.googleusercontent.com/a-/AAuE7mDjt8hgMVauA7Pk87R7lj4ZmypVoo3K6ZQFSTivLQ=s64",
      "userId": "12558274179983877521"
     },
     "user_tz": -540
    },
    "id": "t_iXOBZvCd6B",
    "outputId": "fd30a298-d771-49c3-8e60-7e1d25c2984e"
   },
   "outputs": [
    {
     "data": {
      "text/html": [
       "\n",
       "     <input type=\"file\" id=\"files-498ce569-7d3a-452b-97ce-078be73f5dc2\" name=\"files[]\" multiple disabled />\n",
       "     <output id=\"result-498ce569-7d3a-452b-97ce-078be73f5dc2\">\n",
       "      Upload widget is only available when the cell has been executed in the\n",
       "      current browser session. Please rerun this cell to enable.\n",
       "      </output>\n",
       "      <script src=\"/nbextensions/google.colab/files.js\"></script> "
      ],
      "text/plain": [
       "<IPython.core.display.HTML object>"
      ]
     },
     "metadata": {
      "tags": []
     },
     "output_type": "display_data"
    },
    {
     "name": "stdout",
     "output_type": "stream",
     "text": [
      "Saving 20020507_060000_20200207_070000_D.csv to 20020507_060000_20200207_070000_D.csv\n"
     ]
    }
   ],
   "source": [
    "# from google.colab import files\n",
    "# uploaded = files.upload()"
   ]
  },
  {
   "cell_type": "code",
   "execution_count": 3,
   "metadata": {
    "colab": {
     "base_uri": "https://localhost:8080/",
     "height": 431
    },
    "colab_type": "code",
    "executionInfo": {
     "elapsed": 815,
     "status": "ok",
     "timestamp": 1581349590716,
     "user": {
      "displayName": "Seiya Umemoto",
      "photoUrl": "https://lh3.googleusercontent.com/a-/AAuE7mDjt8hgMVauA7Pk87R7lj4ZmypVoo3K6ZQFSTivLQ=s64",
      "userId": "12558274179983877521"
     },
     "user_tz": -540
    },
    "id": "j5MYQiXaBtc9",
    "outputId": "a01195be-17e6-4925-f341-7bd7dfe310f2"
   },
   "outputs": [
    {
     "data": {
      "text/html": [
       "<div>\n",
       "<style scoped>\n",
       "    .dataframe tbody tr th:only-of-type {\n",
       "        vertical-align: middle;\n",
       "    }\n",
       "\n",
       "    .dataframe tbody tr th {\n",
       "        vertical-align: top;\n",
       "    }\n",
       "\n",
       "    .dataframe thead th {\n",
       "        text-align: right;\n",
       "    }\n",
       "</style>\n",
       "<table border=\"1\" class=\"dataframe\">\n",
       "  <thead>\n",
       "    <tr style=\"text-align: right;\">\n",
       "      <th></th>\n",
       "      <th>open</th>\n",
       "      <th>high</th>\n",
       "      <th>low</th>\n",
       "      <th>close</th>\n",
       "      <th>amount</th>\n",
       "      <th>complete</th>\n",
       "    </tr>\n",
       "    <tr>\n",
       "      <th>time</th>\n",
       "      <th></th>\n",
       "      <th></th>\n",
       "      <th></th>\n",
       "      <th></th>\n",
       "      <th></th>\n",
       "      <th></th>\n",
       "    </tr>\n",
       "  </thead>\n",
       "  <tbody>\n",
       "    <tr>\n",
       "      <td>2002-05-07 06:00:00</td>\n",
       "      <td>127.920</td>\n",
       "      <td>127.920</td>\n",
       "      <td>127.920</td>\n",
       "      <td>127.920</td>\n",
       "      <td>1.0</td>\n",
       "      <td>True</td>\n",
       "    </tr>\n",
       "    <tr>\n",
       "      <td>2002-05-08 06:00:00</td>\n",
       "      <td>128.920</td>\n",
       "      <td>128.920</td>\n",
       "      <td>128.920</td>\n",
       "      <td>128.920</td>\n",
       "      <td>1.0</td>\n",
       "      <td>True</td>\n",
       "    </tr>\n",
       "    <tr>\n",
       "      <td>2002-05-09 06:00:00</td>\n",
       "      <td>128.380</td>\n",
       "      <td>128.380</td>\n",
       "      <td>128.380</td>\n",
       "      <td>128.380</td>\n",
       "      <td>1.0</td>\n",
       "      <td>True</td>\n",
       "    </tr>\n",
       "    <tr>\n",
       "      <td>2002-05-10 06:00:00</td>\n",
       "      <td>127.630</td>\n",
       "      <td>127.630</td>\n",
       "      <td>127.630</td>\n",
       "      <td>127.630</td>\n",
       "      <td>1.0</td>\n",
       "      <td>True</td>\n",
       "    </tr>\n",
       "    <tr>\n",
       "      <td>2002-05-11 06:00:00</td>\n",
       "      <td>127.620</td>\n",
       "      <td>127.620</td>\n",
       "      <td>127.620</td>\n",
       "      <td>127.620</td>\n",
       "      <td>1.0</td>\n",
       "      <td>True</td>\n",
       "    </tr>\n",
       "    <tr>\n",
       "      <td>...</td>\n",
       "      <td>...</td>\n",
       "      <td>...</td>\n",
       "      <td>...</td>\n",
       "      <td>...</td>\n",
       "      <td>...</td>\n",
       "      <td>...</td>\n",
       "    </tr>\n",
       "    <tr>\n",
       "      <td>2020-02-03 07:00:00</td>\n",
       "      <td>108.432</td>\n",
       "      <td>108.799</td>\n",
       "      <td>108.318</td>\n",
       "      <td>108.683</td>\n",
       "      <td>85789.0</td>\n",
       "      <td>True</td>\n",
       "    </tr>\n",
       "    <tr>\n",
       "      <td>2020-02-04 07:00:00</td>\n",
       "      <td>108.688</td>\n",
       "      <td>109.546</td>\n",
       "      <td>108.550</td>\n",
       "      <td>109.525</td>\n",
       "      <td>66432.0</td>\n",
       "      <td>True</td>\n",
       "    </tr>\n",
       "    <tr>\n",
       "      <td>2020-02-05 07:00:00</td>\n",
       "      <td>109.524</td>\n",
       "      <td>109.848</td>\n",
       "      <td>109.304</td>\n",
       "      <td>109.830</td>\n",
       "      <td>77095.0</td>\n",
       "      <td>True</td>\n",
       "    </tr>\n",
       "    <tr>\n",
       "      <td>2020-02-06 07:00:00</td>\n",
       "      <td>109.824</td>\n",
       "      <td>110.004</td>\n",
       "      <td>109.743</td>\n",
       "      <td>109.996</td>\n",
       "      <td>55418.0</td>\n",
       "      <td>True</td>\n",
       "    </tr>\n",
       "    <tr>\n",
       "      <td>2020-02-07 07:00:00</td>\n",
       "      <td>109.992</td>\n",
       "      <td>110.022</td>\n",
       "      <td>109.964</td>\n",
       "      <td>109.965</td>\n",
       "      <td>879.0</td>\n",
       "      <td>False</td>\n",
       "    </tr>\n",
       "  </tbody>\n",
       "</table>\n",
       "<p>5435 rows × 6 columns</p>\n",
       "</div>"
      ],
      "text/plain": [
       "                        open     high      low    close   amount  complete\n",
       "time                                                                      \n",
       "2002-05-07 06:00:00  127.920  127.920  127.920  127.920      1.0      True\n",
       "2002-05-08 06:00:00  128.920  128.920  128.920  128.920      1.0      True\n",
       "2002-05-09 06:00:00  128.380  128.380  128.380  128.380      1.0      True\n",
       "2002-05-10 06:00:00  127.630  127.630  127.630  127.630      1.0      True\n",
       "2002-05-11 06:00:00  127.620  127.620  127.620  127.620      1.0      True\n",
       "...                      ...      ...      ...      ...      ...       ...\n",
       "2020-02-03 07:00:00  108.432  108.799  108.318  108.683  85789.0      True\n",
       "2020-02-04 07:00:00  108.688  109.546  108.550  109.525  66432.0      True\n",
       "2020-02-05 07:00:00  109.524  109.848  109.304  109.830  77095.0      True\n",
       "2020-02-06 07:00:00  109.824  110.004  109.743  109.996  55418.0      True\n",
       "2020-02-07 07:00:00  109.992  110.022  109.964  109.965    879.0     False\n",
       "\n",
       "[5435 rows x 6 columns]"
      ]
     },
     "execution_count": 3,
     "metadata": {},
     "output_type": "execute_result"
    }
   ],
   "source": [
    "df = pd.read_csv(\"../Datasets/20020507_060000_20200207_070000_D.csv\",index_col='time',parse_dates=True)\n",
    "df\n",
    "# import io\n",
    "# df = pd.read_csv(io.BytesIO(uploaded['20020507_060000_20200207_070000_D.csv']), index_col='time', parse_dates=True)\n",
    "# df"
   ]
  },
  {
   "cell_type": "markdown",
   "metadata": {
    "colab_type": "text",
    "id": "rKTqdYoUBtdA"
   },
   "source": [
    "# Drop 'complete' column which is unnecessary info"
   ]
  },
  {
   "cell_type": "code",
   "execution_count": 4,
   "metadata": {
    "colab": {
     "base_uri": "https://localhost:8080/",
     "height": 431
    },
    "colab_type": "code",
    "executionInfo": {
     "elapsed": 1174,
     "status": "ok",
     "timestamp": 1581349595212,
     "user": {
      "displayName": "Seiya Umemoto",
      "photoUrl": "https://lh3.googleusercontent.com/a-/AAuE7mDjt8hgMVauA7Pk87R7lj4ZmypVoo3K6ZQFSTivLQ=s64",
      "userId": "12558274179983877521"
     },
     "user_tz": -540
    },
    "id": "_N992saNBtdB",
    "outputId": "7b9ebb44-7319-44b9-a699-5b8694929287"
   },
   "outputs": [
    {
     "data": {
      "text/html": [
       "<div>\n",
       "<style scoped>\n",
       "    .dataframe tbody tr th:only-of-type {\n",
       "        vertical-align: middle;\n",
       "    }\n",
       "\n",
       "    .dataframe tbody tr th {\n",
       "        vertical-align: top;\n",
       "    }\n",
       "\n",
       "    .dataframe thead th {\n",
       "        text-align: right;\n",
       "    }\n",
       "</style>\n",
       "<table border=\"1\" class=\"dataframe\">\n",
       "  <thead>\n",
       "    <tr style=\"text-align: right;\">\n",
       "      <th></th>\n",
       "      <th>open</th>\n",
       "      <th>high</th>\n",
       "      <th>low</th>\n",
       "      <th>close</th>\n",
       "      <th>amount</th>\n",
       "    </tr>\n",
       "    <tr>\n",
       "      <th>time</th>\n",
       "      <th></th>\n",
       "      <th></th>\n",
       "      <th></th>\n",
       "      <th></th>\n",
       "      <th></th>\n",
       "    </tr>\n",
       "  </thead>\n",
       "  <tbody>\n",
       "    <tr>\n",
       "      <td>2002-05-07 06:00:00</td>\n",
       "      <td>127.920</td>\n",
       "      <td>127.920</td>\n",
       "      <td>127.920</td>\n",
       "      <td>127.920</td>\n",
       "      <td>1.0</td>\n",
       "    </tr>\n",
       "    <tr>\n",
       "      <td>2002-05-08 06:00:00</td>\n",
       "      <td>128.920</td>\n",
       "      <td>128.920</td>\n",
       "      <td>128.920</td>\n",
       "      <td>128.920</td>\n",
       "      <td>1.0</td>\n",
       "    </tr>\n",
       "    <tr>\n",
       "      <td>2002-05-09 06:00:00</td>\n",
       "      <td>128.380</td>\n",
       "      <td>128.380</td>\n",
       "      <td>128.380</td>\n",
       "      <td>128.380</td>\n",
       "      <td>1.0</td>\n",
       "    </tr>\n",
       "    <tr>\n",
       "      <td>2002-05-10 06:00:00</td>\n",
       "      <td>127.630</td>\n",
       "      <td>127.630</td>\n",
       "      <td>127.630</td>\n",
       "      <td>127.630</td>\n",
       "      <td>1.0</td>\n",
       "    </tr>\n",
       "    <tr>\n",
       "      <td>2002-05-11 06:00:00</td>\n",
       "      <td>127.620</td>\n",
       "      <td>127.620</td>\n",
       "      <td>127.620</td>\n",
       "      <td>127.620</td>\n",
       "      <td>1.0</td>\n",
       "    </tr>\n",
       "    <tr>\n",
       "      <td>...</td>\n",
       "      <td>...</td>\n",
       "      <td>...</td>\n",
       "      <td>...</td>\n",
       "      <td>...</td>\n",
       "      <td>...</td>\n",
       "    </tr>\n",
       "    <tr>\n",
       "      <td>2020-02-03 07:00:00</td>\n",
       "      <td>108.432</td>\n",
       "      <td>108.799</td>\n",
       "      <td>108.318</td>\n",
       "      <td>108.683</td>\n",
       "      <td>85789.0</td>\n",
       "    </tr>\n",
       "    <tr>\n",
       "      <td>2020-02-04 07:00:00</td>\n",
       "      <td>108.688</td>\n",
       "      <td>109.546</td>\n",
       "      <td>108.550</td>\n",
       "      <td>109.525</td>\n",
       "      <td>66432.0</td>\n",
       "    </tr>\n",
       "    <tr>\n",
       "      <td>2020-02-05 07:00:00</td>\n",
       "      <td>109.524</td>\n",
       "      <td>109.848</td>\n",
       "      <td>109.304</td>\n",
       "      <td>109.830</td>\n",
       "      <td>77095.0</td>\n",
       "    </tr>\n",
       "    <tr>\n",
       "      <td>2020-02-06 07:00:00</td>\n",
       "      <td>109.824</td>\n",
       "      <td>110.004</td>\n",
       "      <td>109.743</td>\n",
       "      <td>109.996</td>\n",
       "      <td>55418.0</td>\n",
       "    </tr>\n",
       "    <tr>\n",
       "      <td>2020-02-07 07:00:00</td>\n",
       "      <td>109.992</td>\n",
       "      <td>110.022</td>\n",
       "      <td>109.964</td>\n",
       "      <td>109.965</td>\n",
       "      <td>879.0</td>\n",
       "    </tr>\n",
       "  </tbody>\n",
       "</table>\n",
       "<p>5435 rows × 5 columns</p>\n",
       "</div>"
      ],
      "text/plain": [
       "                        open     high      low    close   amount\n",
       "time                                                            \n",
       "2002-05-07 06:00:00  127.920  127.920  127.920  127.920      1.0\n",
       "2002-05-08 06:00:00  128.920  128.920  128.920  128.920      1.0\n",
       "2002-05-09 06:00:00  128.380  128.380  128.380  128.380      1.0\n",
       "2002-05-10 06:00:00  127.630  127.630  127.630  127.630      1.0\n",
       "2002-05-11 06:00:00  127.620  127.620  127.620  127.620      1.0\n",
       "...                      ...      ...      ...      ...      ...\n",
       "2020-02-03 07:00:00  108.432  108.799  108.318  108.683  85789.0\n",
       "2020-02-04 07:00:00  108.688  109.546  108.550  109.525  66432.0\n",
       "2020-02-05 07:00:00  109.524  109.848  109.304  109.830  77095.0\n",
       "2020-02-06 07:00:00  109.824  110.004  109.743  109.996  55418.0\n",
       "2020-02-07 07:00:00  109.992  110.022  109.964  109.965    879.0\n",
       "\n",
       "[5435 rows x 5 columns]"
      ]
     },
     "execution_count": 4,
     "metadata": {},
     "output_type": "execute_result"
    }
   ],
   "source": [
    "df_new = df.drop(columns=['complete'])\n",
    "df_new"
   ]
  },
  {
   "cell_type": "markdown",
   "metadata": {
    "colab_type": "text",
    "id": "cMUwe1oxBtdD"
   },
   "source": [
    "# Split data to training data and test data"
   ]
  },
  {
   "cell_type": "code",
   "execution_count": 5,
   "metadata": {
    "colab": {},
    "colab_type": "code",
    "id": "J8zSJHvWBtdD"
   },
   "outputs": [],
   "source": [
    "from sklearn.preprocessing import MinMaxScaler\n",
    "scaler = MinMaxScaler()\n",
    "scaled_data = scaler.fit_transform(df_new.values)\n",
    "# df_new = pd.DataFrame(scaled_data)\n",
    "\n",
    "from sklearn.model_selection import train_test_split\n",
    "train, test = train_test_split(scaled_data, test_size=0.20, shuffle=False)"
   ]
  },
  {
   "cell_type": "code",
   "execution_count": 6,
   "metadata": {
    "colab": {
     "base_uri": "https://localhost:8080/",
     "height": 140
    },
    "colab_type": "code",
    "executionInfo": {
     "elapsed": 498,
     "status": "ok",
     "timestamp": 1581349598401,
     "user": {
      "displayName": "Seiya Umemoto",
      "photoUrl": "https://lh3.googleusercontent.com/a-/AAuE7mDjt8hgMVauA7Pk87R7lj4ZmypVoo3K6ZQFSTivLQ=s64",
      "userId": "12558274179983877521"
     },
     "user_tz": -540
    },
    "id": "pAYDKUkPBtdG",
    "outputId": "df86e4c1-1ae4-4605-b48a-e3cacd13449d"
   },
   "outputs": [
    {
     "data": {
      "text/plain": [
       "array([[0.98122489, 0.98118214, 0.98132656, 0.98122665, 0.        ],\n",
       "       [1.        , 1.        , 1.        , 1.        , 0.        ],\n",
       "       [0.98986144, 0.98983835, 0.98991634, 0.98986239, 0.        ],\n",
       "       ...,\n",
       "       [0.88042131, 0.89924917, 0.85322677, 0.85437513, 0.18961067],\n",
       "       [0.85569449, 0.86050319, 0.84917463, 0.85476937, 0.07026394],\n",
       "       [0.85513124, 0.85675844, 0.84698984, 0.85262921, 0.05609158]])"
      ]
     },
     "execution_count": 6,
     "metadata": {},
     "output_type": "execute_result"
    }
   ],
   "source": [
    "train"
   ]
  },
  {
   "cell_type": "code",
   "execution_count": 7,
   "metadata": {
    "colab": {
     "base_uri": "https://localhost:8080/",
     "height": 140
    },
    "colab_type": "code",
    "executionInfo": {
     "elapsed": 391,
     "status": "ok",
     "timestamp": 1581349599195,
     "user": {
      "displayName": "Seiya Umemoto",
      "photoUrl": "https://lh3.googleusercontent.com/a-/AAuE7mDjt8hgMVauA7Pk87R7lj4ZmypVoo3K6ZQFSTivLQ=s64",
      "userId": "12558274179983877521"
     },
     "user_tz": -540
    },
    "id": "G-_VTOtFBtdJ",
    "outputId": "c350f2e1-0ffc-4bce-e0fb-3b94b66aeace"
   },
   "outputs": [
    {
     "data": {
      "text/plain": [
       "array([[0.85239007, 0.85354058, 0.8486331 , 0.84977566, 0.03452611],\n",
       "       [0.84998686, 0.85062381, 0.83810128, 0.83785458, 0.04330176],\n",
       "       [0.83782059, 0.84396229, 0.83655139, 0.83991965, 0.03824135],\n",
       "       ...,\n",
       "       [0.63583793, 0.64110574, 0.63370182, 0.64161676, 0.20576343],\n",
       "       [0.64147047, 0.64404132, 0.64189946, 0.64473314, 0.14790764],\n",
       "       [0.64462469, 0.64438005, 0.64602629, 0.64415116, 0.00234338]])"
      ]
     },
     "execution_count": 7,
     "metadata": {},
     "output_type": "execute_result"
    }
   ],
   "source": [
    "test"
   ]
  },
  {
   "cell_type": "code",
   "execution_count": 8,
   "metadata": {
    "colab": {
     "base_uri": "https://localhost:8080/",
     "height": 34
    },
    "colab_type": "code",
    "executionInfo": {
     "elapsed": 489,
     "status": "ok",
     "timestamp": 1581349601212,
     "user": {
      "displayName": "Seiya Umemoto",
      "photoUrl": "https://lh3.googleusercontent.com/a-/AAuE7mDjt8hgMVauA7Pk87R7lj4ZmypVoo3K6ZQFSTivLQ=s64",
      "userId": "12558274179983877521"
     },
     "user_tz": -540
    },
    "id": "NGfZNFOxBtdL",
    "outputId": "7851114a-f2e2-4d42-c31d-dd777ddb7070"
   },
   "outputs": [
    {
     "data": {
      "text/plain": [
       "((4348, 5), (1087, 5))"
      ]
     },
     "execution_count": 8,
     "metadata": {},
     "output_type": "execute_result"
    }
   ],
   "source": [
    "train.shape, test.shape"
   ]
  },
  {
   "cell_type": "markdown",
   "metadata": {
    "colab_type": "text",
    "id": "SGpIAIQrBtdN"
   },
   "source": [
    "# Set window size"
   ]
  },
  {
   "cell_type": "code",
   "execution_count": 9,
   "metadata": {
    "colab": {},
    "colab_type": "code",
    "id": "yoNvuciQBtdO"
   },
   "outputs": [],
   "source": [
    "window_len = 72"
   ]
  },
  {
   "cell_type": "markdown",
   "metadata": {
    "colab_type": "text",
    "id": "GDDwj6VSBtdQ"
   },
   "source": [
    "# Preprocess the data"
   ]
  },
  {
   "cell_type": "code",
   "execution_count": 10,
   "metadata": {
    "colab": {
     "base_uri": "https://localhost:8080/",
     "height": 34
    },
    "colab_type": "code",
    "executionInfo": {
     "elapsed": 484,
     "status": "ok",
     "timestamp": 1581349605648,
     "user": {
      "displayName": "Seiya Umemoto",
      "photoUrl": "https://lh3.googleusercontent.com/a-/AAuE7mDjt8hgMVauA7Pk87R7lj4ZmypVoo3K6ZQFSTivLQ=s64",
      "userId": "12558274179983877521"
     },
     "user_tz": -540
    },
    "id": "yIMck281BtdQ",
    "outputId": "771d9f58-f16e-49c2-94fc-c46c16fa9edd"
   },
   "outputs": [
    {
     "data": {
      "text/plain": [
       "((4276, 72, 5), (4276,), (1015, 72, 5), (1015,))"
      ]
     },
     "execution_count": 10,
     "metadata": {},
     "output_type": "execute_result"
    }
   ],
   "source": [
    "# train_lstm_in = []\n",
    "# for i in range(len(train)-window_len):\n",
    "#     temp = train[i:(i+window_len)].copy()\n",
    "#     for col in train:\n",
    "#         temp.loc[:, col] = temp[col] / temp[col].iloc[0] - 1\n",
    "#     train_lstm_in.append(temp)\n",
    "# lstm_train_out = (train['close'][window_len:].values / train['close'][:-window_len].values)-1\n",
    "\n",
    "# test_lstm_in = []\n",
    "# for i in range(len(test) - window_len):\n",
    "#     temp = test[i:(i + window_len)].copy()\n",
    "#     for col in test:\n",
    "#         temp.loc[:, col] = temp[col] / temp[col].iloc[0] - 1\n",
    "#     test_lstm_in.append(temp)\n",
    "# lstm_test_out = (test['close'][window_len:].values / test['close'][:-window_len].values)-1\n",
    "\n",
    "# train_lstm_in, lstm_train_out = [], []\n",
    "# for i in range(len(train)-window_len):\n",
    "#   train_lstm_in.append(train[i:(i+window_len)])\n",
    "#   lstm_train_out.append(train[window_len,0])\n",
    "# train_lstm_in, lstm_train_out = np.array(train_lstm_in), np.array(lstm_train_out)\n",
    "\n",
    "# train_lstm_in = np.reshape(train_lstm_in, (train_lstm_in.shape[0], window_len, 5))\n",
    "# train_lstm_in.shape\n",
    "\n",
    "# convert an array of values into a dataset matrix\n",
    "def create_dataset(dataset, window_len):\n",
    "\ttrain_lstm_in, lstm_train_out = [], []\n",
    "\tfor i in range(len(dataset)-window_len):\n",
    "\t\ttrain_lstm_in.append(dataset[i:(i+window_len), :])\n",
    "\t\tlstm_train_out.append(dataset[window_len, 0])\n",
    "\treturn np.array(train_lstm_in), np.array(lstm_train_out)\n",
    " \n",
    "#  reshape into X=t and Y=t+1\n",
    "train_lstm_in, lstm_train_out = create_dataset(train, window_len)\n",
    "test_lstm_in, lstm_test_out = create_dataset(test, window_len)\n",
    "train_lstm_in.shape, lstm_train_out.shape, test_lstm_in.shape, lstm_test_out.shape"
   ]
  },
  {
   "cell_type": "markdown",
   "metadata": {
    "colab_type": "text",
    "id": "Bcq50AckBtdS"
   },
   "source": [
    "# Convert the lists into numpy arrays"
   ]
  },
  {
   "cell_type": "code",
   "execution_count": 0,
   "metadata": {
    "colab": {},
    "colab_type": "code",
    "id": "-rrwH9KbBtdT"
   },
   "outputs": [],
   "source": [
    "# train_lstm_in = [np.array(train_lstm_input) for train_lstm_input in train_lstm_in]\n",
    "# train_lstm_in = np.array(train_lstm_in)\n",
    "\n",
    "# test_lstm_in = [np.array(test_lstm_input) for test_lstm_input in test_lstm_in]\n",
    "# test_lstm_in = np.array(test_lstm_in)"
   ]
  },
  {
   "cell_type": "markdown",
   "metadata": {
    "colab_type": "text",
    "id": "UkccHetLBtdW"
   },
   "source": [
    "# (The length of data, Window size, The number of features)"
   ]
  },
  {
   "cell_type": "code",
   "execution_count": 11,
   "metadata": {
    "colab": {
     "base_uri": "https://localhost:8080/",
     "height": 34
    },
    "colab_type": "code",
    "executionInfo": {
     "elapsed": 525,
     "status": "ok",
     "timestamp": 1581349611228,
     "user": {
      "displayName": "Seiya Umemoto",
      "photoUrl": "https://lh3.googleusercontent.com/a-/AAuE7mDjt8hgMVauA7Pk87R7lj4ZmypVoo3K6ZQFSTivLQ=s64",
      "userId": "12558274179983877521"
     },
     "user_tz": -540
    },
    "id": "58k2gl-eBtdW",
    "outputId": "68a38afc-4b1c-4680-a2c1-3a2e191d7107"
   },
   "outputs": [
    {
     "data": {
      "text/plain": [
       "(4276, 72, 5)"
      ]
     },
     "execution_count": 11,
     "metadata": {},
     "output_type": "execute_result"
    }
   ],
   "source": [
    "train_lstm_in.shape"
   ]
  },
  {
   "cell_type": "code",
   "execution_count": 12,
   "metadata": {
    "colab": {
     "base_uri": "https://localhost:8080/",
     "height": 34
    },
    "colab_type": "code",
    "executionInfo": {
     "elapsed": 749,
     "status": "ok",
     "timestamp": 1581349611939,
     "user": {
      "displayName": "Seiya Umemoto",
      "photoUrl": "https://lh3.googleusercontent.com/a-/AAuE7mDjt8hgMVauA7Pk87R7lj4ZmypVoo3K6ZQFSTivLQ=s64",
      "userId": "12558274179983877521"
     },
     "user_tz": -540
    },
    "id": "Jc82ooQqBtda",
    "outputId": "02104cbf-e3be-4390-d689-211821ed2f43"
   },
   "outputs": [
    {
     "data": {
      "text/plain": [
       "(1015, 72, 5)"
      ]
     },
     "execution_count": 12,
     "metadata": {},
     "output_type": "execute_result"
    }
   ],
   "source": [
    "test_lstm_in.shape"
   ]
  },
  {
   "cell_type": "markdown",
   "metadata": {
    "colab_type": "text",
    "id": "-s1SWAzjBtdc"
   },
   "source": [
    "# Import keras libraries"
   ]
  },
  {
   "cell_type": "code",
   "execution_count": 13,
   "metadata": {
    "colab": {},
    "colab_type": "code",
    "id": "6qNVdxw-Btdd"
   },
   "outputs": [
    {
     "name": "stderr",
     "output_type": "stream",
     "text": [
      "Using TensorFlow backend.\n"
     ]
    }
   ],
   "source": [
    "from keras.models import Sequential\n",
    "from keras.layers import Activation, Dense\n",
    "from keras.layers import LSTM\n",
    "from keras.layers import Dropout\n",
    "from keras.wrappers.scikit_learn import KerasRegressor\n",
    "from sklearn.ensemble import AdaBoostRegressor"
   ]
  },
  {
   "cell_type": "markdown",
   "metadata": {
    "colab_type": "text",
    "id": "creqcG5lBtdg"
   },
   "source": [
    "# Click the link below to check library info about LSTM\n",
    "# <a href=\"https://keras.io/layers/recurrent/\">Keras Documentation about LSTM</a>"
   ]
  },
  {
   "cell_type": "code",
   "execution_count": 14,
   "metadata": {
    "colab": {},
    "colab_type": "code",
    "id": "A3JXKsaWBtdg"
   },
   "outputs": [],
   "source": [
    "def build_model(inputs, output_size, neurons, activ_func=\"linear\",\n",
    "               dropout=0.25, loss=\"mae\", optimizer=\"adam\"):\n",
    "    model = Sequential()\n",
    "    \n",
    "    model.add(LSTM(neurons, return_sequences=True, input_shape = (inputs.shape[1], inputs.shape[2])))\n",
    "    model.add(Dropout(dropout))\n",
    "\n",
    "    model.add(LSTM(neurons, return_sequences=True))\n",
    "    model.add(Dropout(dropout))\n",
    "\n",
    "    model.add(LSTM(neurons, return_sequences=True))\n",
    "    model.add(Dropout(dropout))\n",
    "\n",
    "    model.add(LSTM(neurons))\n",
    "    model.add(Dropout(dropout))\n",
    "\n",
    "    model.add(Dense(units=output_size))\n",
    "    model.add(Activation(activ_func))\n",
    "    \n",
    "#     model.add(LSTM(neurons, input_shape=(inputs.shape[1], inputs.shape[2])))\n",
    "#     model.add(Dropout(dropout))\n",
    "#     model.add(Dense(units=output_size))\n",
    "#     model.add(Activation(activ_func))\n",
    "    \n",
    "    model.compile(loss=loss, optimizer=optimizer)\n",
    "    return model\n",
    "\n",
    "np.random.seed(202)\n",
    "\n",
    "lstm_estimator = KerasRegressor(build_fn= build_model(train_lstm_in, output_size=1, neurons=50), epochs=50, batch_size=32, verbose=0)"
   ]
  },
  {
   "cell_type": "code",
   "execution_count": 15,
   "metadata": {
    "colab": {},
    "colab_type": "code",
    "id": "kjcA_Uaq0euz"
   },
   "outputs": [],
   "source": [
    "boosted_lstm = AdaBoostRegressor(base_estimator= lstm_estimator)"
   ]
  },
  {
   "cell_type": "code",
   "execution_count": 16,
   "metadata": {
    "colab": {
     "base_uri": "https://localhost:8080/",
     "height": 316
    },
    "colab_type": "code",
    "executionInfo": {
     "elapsed": 3278,
     "status": "error",
     "timestamp": 1581350880385,
     "user": {
      "displayName": "Seiya Umemoto",
      "photoUrl": "https://lh3.googleusercontent.com/a-/AAuE7mDjt8hgMVauA7Pk87R7lj4ZmypVoo3K6ZQFSTivLQ=s64",
      "userId": "12558274179983877521"
     },
     "user_tz": -540
    },
    "id": "ogn4jaM70mRA",
    "outputId": "2120e611-a781-4d62-cdf8-014e9b0113f5"
   },
   "outputs": [
    {
     "ename": "TypeError",
     "evalue": "__call__() missing 1 required positional argument: 'inputs'",
     "output_type": "error",
     "traceback": [
      "\u001b[1;31m---------------------------------------------------------------------------\u001b[0m",
      "\u001b[1;31mTypeError\u001b[0m                                 Traceback (most recent call last)",
      "\u001b[1;32m<ipython-input-16-6ace0f534f35>\u001b[0m in \u001b[0;36m<module>\u001b[1;34m\u001b[0m\n\u001b[1;32m----> 1\u001b[1;33m \u001b[0mboosted_lstm\u001b[0m\u001b[1;33m.\u001b[0m\u001b[0mfit\u001b[0m\u001b[1;33m(\u001b[0m\u001b[0mtrain_lstm_in\u001b[0m\u001b[1;33m,\u001b[0m \u001b[0mlstm_train_out\u001b[0m\u001b[1;33m.\u001b[0m\u001b[0mravel\u001b[0m\u001b[1;33m(\u001b[0m\u001b[1;33m)\u001b[0m\u001b[1;33m)\u001b[0m\u001b[1;33m\u001b[0m\u001b[1;33m\u001b[0m\u001b[0m\n\u001b[0m",
      "\u001b[1;32m~\\Anaconda3\\lib\\site-packages\\sklearn\\ensemble\\weight_boosting.py\u001b[0m in \u001b[0;36mfit\u001b[1;34m(self, X, y, sample_weight)\u001b[0m\n\u001b[0;32m    994\u001b[0m \u001b[1;33m\u001b[0m\u001b[0m\n\u001b[0;32m    995\u001b[0m         \u001b[1;31m# Fit\u001b[0m\u001b[1;33m\u001b[0m\u001b[1;33m\u001b[0m\u001b[1;33m\u001b[0m\u001b[0m\n\u001b[1;32m--> 996\u001b[1;33m         \u001b[1;32mreturn\u001b[0m \u001b[0msuper\u001b[0m\u001b[1;33m(\u001b[0m\u001b[1;33m)\u001b[0m\u001b[1;33m.\u001b[0m\u001b[0mfit\u001b[0m\u001b[1;33m(\u001b[0m\u001b[0mX\u001b[0m\u001b[1;33m,\u001b[0m \u001b[0my\u001b[0m\u001b[1;33m,\u001b[0m \u001b[0msample_weight\u001b[0m\u001b[1;33m)\u001b[0m\u001b[1;33m\u001b[0m\u001b[1;33m\u001b[0m\u001b[0m\n\u001b[0m\u001b[0;32m    997\u001b[0m \u001b[1;33m\u001b[0m\u001b[0m\n\u001b[0;32m    998\u001b[0m     \u001b[1;32mdef\u001b[0m \u001b[0m_validate_estimator\u001b[0m\u001b[1;33m(\u001b[0m\u001b[0mself\u001b[0m\u001b[1;33m)\u001b[0m\u001b[1;33m:\u001b[0m\u001b[1;33m\u001b[0m\u001b[1;33m\u001b[0m\u001b[0m\n",
      "\u001b[1;32m~\\Anaconda3\\lib\\site-packages\\sklearn\\ensemble\\weight_boosting.py\u001b[0m in \u001b[0;36mfit\u001b[1;34m(self, X, y, sample_weight)\u001b[0m\n\u001b[0;32m    148\u001b[0m                 \u001b[0mX\u001b[0m\u001b[1;33m,\u001b[0m \u001b[0my\u001b[0m\u001b[1;33m,\u001b[0m\u001b[1;33m\u001b[0m\u001b[1;33m\u001b[0m\u001b[0m\n\u001b[0;32m    149\u001b[0m                 \u001b[0msample_weight\u001b[0m\u001b[1;33m,\u001b[0m\u001b[1;33m\u001b[0m\u001b[1;33m\u001b[0m\u001b[0m\n\u001b[1;32m--> 150\u001b[1;33m                 random_state)\n\u001b[0m\u001b[0;32m    151\u001b[0m \u001b[1;33m\u001b[0m\u001b[0m\n\u001b[0;32m    152\u001b[0m             \u001b[1;31m# Early termination\u001b[0m\u001b[1;33m\u001b[0m\u001b[1;33m\u001b[0m\u001b[1;33m\u001b[0m\u001b[0m\n",
      "\u001b[1;32m~\\Anaconda3\\lib\\site-packages\\sklearn\\ensemble\\weight_boosting.py\u001b[0m in \u001b[0;36m_boost\u001b[1;34m(self, iboost, X, y, sample_weight, random_state)\u001b[0m\n\u001b[0;32m   1054\u001b[0m         \u001b[0mX_\u001b[0m \u001b[1;33m=\u001b[0m \u001b[0msafe_indexing\u001b[0m\u001b[1;33m(\u001b[0m\u001b[0mX\u001b[0m\u001b[1;33m,\u001b[0m \u001b[0mbootstrap_idx\u001b[0m\u001b[1;33m)\u001b[0m\u001b[1;33m\u001b[0m\u001b[1;33m\u001b[0m\u001b[0m\n\u001b[0;32m   1055\u001b[0m         \u001b[0my_\u001b[0m \u001b[1;33m=\u001b[0m \u001b[0msafe_indexing\u001b[0m\u001b[1;33m(\u001b[0m\u001b[0my\u001b[0m\u001b[1;33m,\u001b[0m \u001b[0mbootstrap_idx\u001b[0m\u001b[1;33m)\u001b[0m\u001b[1;33m\u001b[0m\u001b[1;33m\u001b[0m\u001b[0m\n\u001b[1;32m-> 1056\u001b[1;33m         \u001b[0mestimator\u001b[0m\u001b[1;33m.\u001b[0m\u001b[0mfit\u001b[0m\u001b[1;33m(\u001b[0m\u001b[0mX_\u001b[0m\u001b[1;33m,\u001b[0m \u001b[0my_\u001b[0m\u001b[1;33m)\u001b[0m\u001b[1;33m\u001b[0m\u001b[1;33m\u001b[0m\u001b[0m\n\u001b[0m\u001b[0;32m   1057\u001b[0m         \u001b[0my_predict\u001b[0m \u001b[1;33m=\u001b[0m \u001b[0mestimator\u001b[0m\u001b[1;33m.\u001b[0m\u001b[0mpredict\u001b[0m\u001b[1;33m(\u001b[0m\u001b[0mX\u001b[0m\u001b[1;33m)\u001b[0m\u001b[1;33m\u001b[0m\u001b[1;33m\u001b[0m\u001b[0m\n\u001b[0;32m   1058\u001b[0m \u001b[1;33m\u001b[0m\u001b[0m\n",
      "\u001b[1;32m~\\Anaconda3\\lib\\site-packages\\keras\\wrappers\\scikit_learn.py\u001b[0m in \u001b[0;36mfit\u001b[1;34m(self, x, y, **kwargs)\u001b[0m\n\u001b[0;32m    138\u001b[0m               not isinstance(self.build_fn, types.MethodType)):\n\u001b[0;32m    139\u001b[0m             self.model = self.build_fn(\n\u001b[1;32m--> 140\u001b[1;33m                 **self.filter_sk_params(self.build_fn.__call__))\n\u001b[0m\u001b[0;32m    141\u001b[0m         \u001b[1;32melse\u001b[0m\u001b[1;33m:\u001b[0m\u001b[1;33m\u001b[0m\u001b[1;33m\u001b[0m\u001b[0m\n\u001b[0;32m    142\u001b[0m             \u001b[0mself\u001b[0m\u001b[1;33m.\u001b[0m\u001b[0mmodel\u001b[0m \u001b[1;33m=\u001b[0m \u001b[0mself\u001b[0m\u001b[1;33m.\u001b[0m\u001b[0mbuild_fn\u001b[0m\u001b[1;33m(\u001b[0m\u001b[1;33m**\u001b[0m\u001b[0mself\u001b[0m\u001b[1;33m.\u001b[0m\u001b[0mfilter_sk_params\u001b[0m\u001b[1;33m(\u001b[0m\u001b[0mself\u001b[0m\u001b[1;33m.\u001b[0m\u001b[0mbuild_fn\u001b[0m\u001b[1;33m)\u001b[0m\u001b[1;33m)\u001b[0m\u001b[1;33m\u001b[0m\u001b[1;33m\u001b[0m\u001b[0m\n",
      "\u001b[1;32m~\\Anaconda3\\lib\\site-packages\\keras\\backend\\tensorflow_backend.py\u001b[0m in \u001b[0;36msymbolic_fn_wrapper\u001b[1;34m(*args, **kwargs)\u001b[0m\n\u001b[0;32m     73\u001b[0m         \u001b[1;32mif\u001b[0m \u001b[0m_SYMBOLIC_SCOPE\u001b[0m\u001b[1;33m.\u001b[0m\u001b[0mvalue\u001b[0m\u001b[1;33m:\u001b[0m\u001b[1;33m\u001b[0m\u001b[1;33m\u001b[0m\u001b[0m\n\u001b[0;32m     74\u001b[0m             \u001b[1;32mwith\u001b[0m \u001b[0mget_graph\u001b[0m\u001b[1;33m(\u001b[0m\u001b[1;33m)\u001b[0m\u001b[1;33m.\u001b[0m\u001b[0mas_default\u001b[0m\u001b[1;33m(\u001b[0m\u001b[1;33m)\u001b[0m\u001b[1;33m:\u001b[0m\u001b[1;33m\u001b[0m\u001b[1;33m\u001b[0m\u001b[0m\n\u001b[1;32m---> 75\u001b[1;33m                 \u001b[1;32mreturn\u001b[0m \u001b[0mfunc\u001b[0m\u001b[1;33m(\u001b[0m\u001b[1;33m*\u001b[0m\u001b[0margs\u001b[0m\u001b[1;33m,\u001b[0m \u001b[1;33m**\u001b[0m\u001b[0mkwargs\u001b[0m\u001b[1;33m)\u001b[0m\u001b[1;33m\u001b[0m\u001b[1;33m\u001b[0m\u001b[0m\n\u001b[0m\u001b[0;32m     76\u001b[0m         \u001b[1;32melse\u001b[0m\u001b[1;33m:\u001b[0m\u001b[1;33m\u001b[0m\u001b[1;33m\u001b[0m\u001b[0m\n\u001b[0;32m     77\u001b[0m             \u001b[1;32mreturn\u001b[0m \u001b[0mfunc\u001b[0m\u001b[1;33m(\u001b[0m\u001b[1;33m*\u001b[0m\u001b[0margs\u001b[0m\u001b[1;33m,\u001b[0m \u001b[1;33m**\u001b[0m\u001b[0mkwargs\u001b[0m\u001b[1;33m)\u001b[0m\u001b[1;33m\u001b[0m\u001b[1;33m\u001b[0m\u001b[0m\n",
      "\u001b[1;31mTypeError\u001b[0m: __call__() missing 1 required positional argument: 'inputs'"
     ]
    }
   ],
   "source": [
    "boosted_lstm.fit(train_lstm_in, lstm_train_out.ravel())"
   ]
  },
  {
   "cell_type": "code",
   "execution_count": 0,
   "metadata": {
    "colab": {
     "base_uri": "https://localhost:8080/",
     "height": 477
    },
    "colab_type": "code",
    "executionInfo": {
     "elapsed": 1871482,
     "status": "ok",
     "timestamp": 1581050212508,
     "user": {
      "displayName": "Seiya Umemoto",
      "photoUrl": "https://lh3.googleusercontent.com/a-/AAuE7mDjt8hgMVauA7Pk87R7lj4ZmypVoo3K6ZQFSTivLQ=s64",
      "userId": "12558274179983877521"
     },
     "user_tz": -540
    },
    "id": "Z3vz7144Btdi",
    "outputId": "5d3db964-2647-4c7f-c2e8-25808cc40565"
   },
   "outputs": [
    {
     "name": "stdout",
     "output_type": "stream",
     "text": [
      "WARNING:tensorflow:From /usr/local/lib/python3.6/dist-packages/tensorflow_core/python/ops/math_grad.py:1424: where (from tensorflow.python.ops.array_ops) is deprecated and will be removed in a future version.\n",
      "Instructions for updating:\n",
      "Use tf.where in 2.0, which has the same broadcast rule as np.where\n",
      "WARNING:tensorflow:From /usr/local/lib/python3.6/dist-packages/keras/backend/tensorflow_backend.py:1033: The name tf.assign_add is deprecated. Please use tf.compat.v1.assign_add instead.\n",
      "\n",
      "WARNING:tensorflow:From /usr/local/lib/python3.6/dist-packages/keras/backend/tensorflow_backend.py:1020: The name tf.assign is deprecated. Please use tf.compat.v1.assign instead.\n",
      "\n",
      "WARNING:tensorflow:From /usr/local/lib/python3.6/dist-packages/keras/backend/tensorflow_backend.py:3005: The name tf.Session is deprecated. Please use tf.compat.v1.Session instead.\n",
      "\n",
      "Epoch 1/50\n",
      "WARNING:tensorflow:From /usr/local/lib/python3.6/dist-packages/keras/backend/tensorflow_backend.py:190: The name tf.get_default_session is deprecated. Please use tf.compat.v1.get_default_session instead.\n",
      "\n",
      "WARNING:tensorflow:From /usr/local/lib/python3.6/dist-packages/keras/backend/tensorflow_backend.py:197: The name tf.ConfigProto is deprecated. Please use tf.compat.v1.ConfigProto instead.\n",
      "\n",
      "WARNING:tensorflow:From /usr/local/lib/python3.6/dist-packages/keras/backend/tensorflow_backend.py:207: The name tf.global_variables is deprecated. Please use tf.compat.v1.global_variables instead.\n",
      "\n",
      "WARNING:tensorflow:From /usr/local/lib/python3.6/dist-packages/keras/backend/tensorflow_backend.py:216: The name tf.is_variable_initialized is deprecated. Please use tf.compat.v1.is_variable_initialized instead.\n",
      "\n",
      "WARNING:tensorflow:From /usr/local/lib/python3.6/dist-packages/keras/backend/tensorflow_backend.py:223: The name tf.variables_initializer is deprecated. Please use tf.compat.v1.variables_initializer instead.\n",
      "\n",
      "4276/4276 [==============================] - 33s 8ms/step - loss: 0.1177\n",
      "Epoch 2/50\n",
      "4276/4276 [==============================] - 30s 7ms/step - loss: 0.0637\n",
      "Epoch 3/50\n",
      " 384/4276 [=>............................] - ETA: 26s - loss: 0.0574"
     ]
    }
   ],
   "source": [
    "yen_history = yen_model.fit(train_lstm_in, lstm_train_out, epochs=50, batch_size=32, verbose=1, shuffle=True)"
   ]
  },
  {
   "cell_type": "markdown",
   "metadata": {
    "colab_type": "text",
    "id": "lqsUVIr1Btdk"
   },
   "source": [
    "# Visualize the loss function"
   ]
  },
  {
   "cell_type": "code",
   "execution_count": 0,
   "metadata": {
    "colab": {},
    "colab_type": "code",
    "id": "REpIXZbFBtdl"
   },
   "outputs": [],
   "source": [
    "fig, ax1 = plt.subplots(1,1)\n",
    "\n",
    "ax1.plot(yen_history.epoch, yen_history.history['loss'])\n",
    "ax1.set_title('TrainingError')\n",
    "\n",
    "if yen_model.loss == 'mae':\n",
    "    ax1.set_ylabel('Mean Absolute Error (MAE)',fontsize=12)\n",
    "else:\n",
    "    ax1.set_ylabel('Model Loss',fontsize=12)\n",
    "ax1.set_xlabel('# Epochs',fontsize=12)\n",
    "plt.show()"
   ]
  },
  {
   "cell_type": "markdown",
   "metadata": {
    "colab_type": "text",
    "id": "UaPom1voBtdo"
   },
   "source": [
    "# Visualize the Training data and Prediction"
   ]
  },
  {
   "cell_type": "code",
   "execution_count": 0,
   "metadata": {
    "colab": {},
    "colab_type": "code",
    "id": "i-zHDXaFBtdp"
   },
   "outputs": [],
   "source": [
    "from statsmodels.tools.eval_measures import rmse\n",
    "\n",
    "instrument = 'USD_JPY'\n",
    "\n",
    "fig, ax1 = plt.subplots(1,1,figsize=(12,8))\n",
    "ax1.plot(train.index[window_len:],\n",
    "    train['close'][window_len:], label='Actual', color='blue', )\n",
    "ax1.legend()\n",
    "ax1.plot(train.index[window_len:],\n",
    "    ((np.transpose(yen_model.predict(train_lstm_in))+1)*train['close'].values[:-window_len])[0],\n",
    "            label='Predicted', color='red')\n",
    "ax1.legend()\n",
    "ax1.set_title('Prediction for Training Data({})'.format(instrument))\n",
    "ax1.grid(True)\n",
    "\n",
    "error_train = rmse(train['close'][window_len:], ((np.transpose(yen_model.predict(train_lstm_in))+1)*train['close'].values[:-window_len])[0])\n",
    "print('STD of train data[close]: {}'.format(train['close'].std()))\n",
    "print(f'RMSE: {error_train}')\n",
    "per = round(error_train/train['close'].std()*100, 2)\n",
    "print('Percentage RMSE/STD: {}%'.format(per))"
   ]
  },
  {
   "cell_type": "markdown",
   "metadata": {
    "colab_type": "text",
    "id": "sia39QrOBtdr"
   },
   "source": [
    "# Visualize the Test data and Prediction"
   ]
  },
  {
   "cell_type": "code",
   "execution_count": 0,
   "metadata": {
    "colab": {},
    "colab_type": "code",
    "id": "ZzR__UEuBtds"
   },
   "outputs": [],
   "source": [
    "fig, ax1 = plt.subplots(1,1,figsize=(12,8))\n",
    "ax1.plot(test.index[window_len:],\n",
    "    test['close'][window_len:], label='Actual', color='blue')\n",
    "ax1.legend()\n",
    "ax1.plot(test.index[window_len:],\n",
    "    ((np.transpose(yen_model.predict(test_lstm_in))+1)*test['close'].values[:-window_len])[0],\n",
    "            label='Predicted', color='red')\n",
    "ax1.legend()\n",
    "ax1.set_title('Prediction for Test Data({})'.format(instrument))\n",
    "ax1.grid(True)\n",
    "\n",
    "error_test = rmse(test['close'][window_len:], ((np.transpose(yen_model.predict(test_lstm_in))+1)*test['close'].values[:-window_len])[0])\n",
    "print('STD of test data[close]: {}'.format(test['close'].std()))\n",
    "print(f'RMSE: {error_test}')\n",
    "per = round(error_test/test['close'].std()*100, 2)\n",
    "print('Percentage RMSE/STD: {}%'.format(per))"
   ]
  },
  {
   "cell_type": "markdown",
   "metadata": {
    "colab_type": "text",
    "id": "iIoBhUX5Btdu"
   },
   "source": [
    "# Use the code below to save the model"
   ]
  },
  {
   "cell_type": "code",
   "execution_count": 0,
   "metadata": {
    "colab": {},
    "colab_type": "code",
    "id": "1MmlYRusBtdu"
   },
   "outputs": [],
   "source": [
    "# yen_model.save(\"LSTM_FX_Model\")"
   ]
  },
  {
   "cell_type": "markdown",
   "metadata": {
    "colab_type": "text",
    "id": "mC4t6N7TBtdw"
   },
   "source": [
    "# Use the code below to load the saved model file"
   ]
  },
  {
   "cell_type": "code",
   "execution_count": 0,
   "metadata": {
    "colab": {},
    "colab_type": "code",
    "id": "YOVNmDogBtdx"
   },
   "outputs": [],
   "source": [
    "# from keras.models import load_model\n",
    "# model = load_model(\"LSTM_FX_Model\")\n",
    "# model"
   ]
  },
  {
   "cell_type": "code",
   "execution_count": 0,
   "metadata": {
    "colab": {},
    "colab_type": "code",
    "id": "0NjK81gWBtdz"
   },
   "outputs": [],
   "source": [
    "# model.summary()"
   ]
  },
  {
   "cell_type": "code",
   "execution_count": 0,
   "metadata": {
    "colab": {},
    "colab_type": "code",
    "id": "NWxlKYnrBtd0"
   },
   "outputs": [],
   "source": []
  },
  {
   "cell_type": "code",
   "execution_count": 0,
   "metadata": {
    "colab": {},
    "colab_type": "code",
    "id": "H7rB6X2mBtd2"
   },
   "outputs": [],
   "source": []
  },
  {
   "cell_type": "code",
   "execution_count": 0,
   "metadata": {
    "colab": {},
    "colab_type": "code",
    "id": "8XPDCKNFBtd4"
   },
   "outputs": [],
   "source": []
  },
  {
   "cell_type": "code",
   "execution_count": 0,
   "metadata": {
    "colab": {},
    "colab_type": "code",
    "id": "hyjResdxBtd7"
   },
   "outputs": [],
   "source": []
  },
  {
   "cell_type": "code",
   "execution_count": 0,
   "metadata": {
    "colab": {},
    "colab_type": "code",
    "id": "i5BaWmbRBtd8"
   },
   "outputs": [],
   "source": []
  }
 ],
 "metadata": {
  "colab": {
   "collapsed_sections": [],
   "name": "FX_Adaboost_LSTM_USD_JPY_D.ipynb",
   "provenance": []
  },
  "kernelspec": {
   "display_name": "Python 3",
   "language": "python",
   "name": "python3"
  },
  "language_info": {
   "codemirror_mode": {
    "name": "ipython",
    "version": 3
   },
   "file_extension": ".py",
   "mimetype": "text/x-python",
   "name": "python",
   "nbconvert_exporter": "python",
   "pygments_lexer": "ipython3",
   "version": "3.7.4"
  }
 },
 "nbformat": 4,
 "nbformat_minor": 1
}
