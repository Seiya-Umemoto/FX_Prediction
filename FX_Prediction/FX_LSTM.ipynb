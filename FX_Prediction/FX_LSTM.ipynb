{
 "cells": [
  {
   "cell_type": "markdown",
   "metadata": {},
   "source": [
    "# Use codes below when you allot process in GPU server"
   ]
  },
  {
   "cell_type": "code",
   "execution_count": 1,
   "metadata": {},
   "outputs": [],
   "source": [
    "# import os\n",
    "# os.environ[\"CUDA_DEVICE_ORDER\"] = \"PCI_BUS_ID\"\n",
    "# os.environ[\"CUDA_VISIBLE_DEVICES\"] = \"2\""
   ]
  },
  {
   "cell_type": "markdown",
   "metadata": {},
   "source": [
    "# Import necessary libaries"
   ]
  },
  {
   "cell_type": "code",
   "execution_count": 2,
   "metadata": {},
   "outputs": [],
   "source": [
    "import pandas as pd\n",
    "import numpy as np\n",
    "import matplotlib.pyplot as plt\n",
    "import oandapyV20"
   ]
  },
  {
   "cell_type": "markdown",
   "metadata": {},
   "source": [
    "# Read a CSV file and set 'time' column as indices"
   ]
  },
  {
   "cell_type": "code",
   "execution_count": 5,
   "metadata": {},
   "outputs": [
    {
     "data": {
      "text/html": [
       "<div>\n",
       "<style scoped>\n",
       "    .dataframe tbody tr th:only-of-type {\n",
       "        vertical-align: middle;\n",
       "    }\n",
       "\n",
       "    .dataframe tbody tr th {\n",
       "        vertical-align: top;\n",
       "    }\n",
       "\n",
       "    .dataframe thead th {\n",
       "        text-align: right;\n",
       "    }\n",
       "</style>\n",
       "<table border=\"1\" class=\"dataframe\">\n",
       "  <thead>\n",
       "    <tr style=\"text-align: right;\">\n",
       "      <th></th>\n",
       "      <th>open</th>\n",
       "      <th>high</th>\n",
       "      <th>low</th>\n",
       "      <th>close</th>\n",
       "      <th>amount</th>\n",
       "      <th>complete</th>\n",
       "    </tr>\n",
       "    <tr>\n",
       "      <th>time</th>\n",
       "      <th></th>\n",
       "      <th></th>\n",
       "      <th></th>\n",
       "      <th></th>\n",
       "      <th></th>\n",
       "      <th></th>\n",
       "    </tr>\n",
       "  </thead>\n",
       "  <tbody>\n",
       "    <tr>\n",
       "      <td>2002-05-07 06:00:00</td>\n",
       "      <td>127.920</td>\n",
       "      <td>127.920</td>\n",
       "      <td>127.920</td>\n",
       "      <td>127.920</td>\n",
       "      <td>1.0</td>\n",
       "      <td>True</td>\n",
       "    </tr>\n",
       "    <tr>\n",
       "      <td>2002-05-08 06:00:00</td>\n",
       "      <td>128.920</td>\n",
       "      <td>128.920</td>\n",
       "      <td>128.920</td>\n",
       "      <td>128.920</td>\n",
       "      <td>1.0</td>\n",
       "      <td>True</td>\n",
       "    </tr>\n",
       "    <tr>\n",
       "      <td>2002-05-09 06:00:00</td>\n",
       "      <td>128.380</td>\n",
       "      <td>128.380</td>\n",
       "      <td>128.380</td>\n",
       "      <td>128.380</td>\n",
       "      <td>1.0</td>\n",
       "      <td>True</td>\n",
       "    </tr>\n",
       "    <tr>\n",
       "      <td>2002-05-10 06:00:00</td>\n",
       "      <td>127.630</td>\n",
       "      <td>127.630</td>\n",
       "      <td>127.630</td>\n",
       "      <td>127.630</td>\n",
       "      <td>1.0</td>\n",
       "      <td>True</td>\n",
       "    </tr>\n",
       "    <tr>\n",
       "      <td>2002-05-11 06:00:00</td>\n",
       "      <td>127.620</td>\n",
       "      <td>127.620</td>\n",
       "      <td>127.620</td>\n",
       "      <td>127.620</td>\n",
       "      <td>1.0</td>\n",
       "      <td>True</td>\n",
       "    </tr>\n",
       "    <tr>\n",
       "      <td>...</td>\n",
       "      <td>...</td>\n",
       "      <td>...</td>\n",
       "      <td>...</td>\n",
       "      <td>...</td>\n",
       "      <td>...</td>\n",
       "      <td>...</td>\n",
       "    </tr>\n",
       "    <tr>\n",
       "      <td>2020-02-03 07:00:00</td>\n",
       "      <td>108.432</td>\n",
       "      <td>108.799</td>\n",
       "      <td>108.318</td>\n",
       "      <td>108.683</td>\n",
       "      <td>85789.0</td>\n",
       "      <td>True</td>\n",
       "    </tr>\n",
       "    <tr>\n",
       "      <td>2020-02-04 07:00:00</td>\n",
       "      <td>108.688</td>\n",
       "      <td>109.546</td>\n",
       "      <td>108.550</td>\n",
       "      <td>109.525</td>\n",
       "      <td>66432.0</td>\n",
       "      <td>True</td>\n",
       "    </tr>\n",
       "    <tr>\n",
       "      <td>2020-02-05 07:00:00</td>\n",
       "      <td>109.524</td>\n",
       "      <td>109.848</td>\n",
       "      <td>109.304</td>\n",
       "      <td>109.830</td>\n",
       "      <td>77095.0</td>\n",
       "      <td>True</td>\n",
       "    </tr>\n",
       "    <tr>\n",
       "      <td>2020-02-06 07:00:00</td>\n",
       "      <td>109.824</td>\n",
       "      <td>110.004</td>\n",
       "      <td>109.743</td>\n",
       "      <td>109.996</td>\n",
       "      <td>55418.0</td>\n",
       "      <td>True</td>\n",
       "    </tr>\n",
       "    <tr>\n",
       "      <td>2020-02-07 07:00:00</td>\n",
       "      <td>109.992</td>\n",
       "      <td>110.022</td>\n",
       "      <td>109.964</td>\n",
       "      <td>109.965</td>\n",
       "      <td>879.0</td>\n",
       "      <td>False</td>\n",
       "    </tr>\n",
       "  </tbody>\n",
       "</table>\n",
       "<p>5435 rows × 6 columns</p>\n",
       "</div>"
      ],
      "text/plain": [
       "                        open     high      low    close   amount  complete\n",
       "time                                                                      \n",
       "2002-05-07 06:00:00  127.920  127.920  127.920  127.920      1.0      True\n",
       "2002-05-08 06:00:00  128.920  128.920  128.920  128.920      1.0      True\n",
       "2002-05-09 06:00:00  128.380  128.380  128.380  128.380      1.0      True\n",
       "2002-05-10 06:00:00  127.630  127.630  127.630  127.630      1.0      True\n",
       "2002-05-11 06:00:00  127.620  127.620  127.620  127.620      1.0      True\n",
       "...                      ...      ...      ...      ...      ...       ...\n",
       "2020-02-03 07:00:00  108.432  108.799  108.318  108.683  85789.0      True\n",
       "2020-02-04 07:00:00  108.688  109.546  108.550  109.525  66432.0      True\n",
       "2020-02-05 07:00:00  109.524  109.848  109.304  109.830  77095.0      True\n",
       "2020-02-06 07:00:00  109.824  110.004  109.743  109.996  55418.0      True\n",
       "2020-02-07 07:00:00  109.992  110.022  109.964  109.965    879.0     False\n",
       "\n",
       "[5435 rows x 6 columns]"
      ]
     },
     "execution_count": 5,
     "metadata": {},
     "output_type": "execute_result"
    }
   ],
   "source": [
    "df = pd.read_csv(\"../Datasets/20020507_060000_20200207_070000_D.csv\",index_col='time',parse_dates=True)\n",
    "df"
   ]
  },
  {
   "cell_type": "markdown",
   "metadata": {},
   "source": [
    "# Drop 'complete' column which is unnecessary info"
   ]
  },
  {
   "cell_type": "code",
   "execution_count": 6,
   "metadata": {},
   "outputs": [
    {
     "data": {
      "text/html": [
       "<div>\n",
       "<style scoped>\n",
       "    .dataframe tbody tr th:only-of-type {\n",
       "        vertical-align: middle;\n",
       "    }\n",
       "\n",
       "    .dataframe tbody tr th {\n",
       "        vertical-align: top;\n",
       "    }\n",
       "\n",
       "    .dataframe thead th {\n",
       "        text-align: right;\n",
       "    }\n",
       "</style>\n",
       "<table border=\"1\" class=\"dataframe\">\n",
       "  <thead>\n",
       "    <tr style=\"text-align: right;\">\n",
       "      <th></th>\n",
       "      <th>open</th>\n",
       "      <th>high</th>\n",
       "      <th>low</th>\n",
       "      <th>close</th>\n",
       "      <th>amount</th>\n",
       "    </tr>\n",
       "    <tr>\n",
       "      <th>time</th>\n",
       "      <th></th>\n",
       "      <th></th>\n",
       "      <th></th>\n",
       "      <th></th>\n",
       "      <th></th>\n",
       "    </tr>\n",
       "  </thead>\n",
       "  <tbody>\n",
       "    <tr>\n",
       "      <td>2002-05-07 06:00:00</td>\n",
       "      <td>127.920</td>\n",
       "      <td>127.920</td>\n",
       "      <td>127.920</td>\n",
       "      <td>127.920</td>\n",
       "      <td>1.0</td>\n",
       "    </tr>\n",
       "    <tr>\n",
       "      <td>2002-05-08 06:00:00</td>\n",
       "      <td>128.920</td>\n",
       "      <td>128.920</td>\n",
       "      <td>128.920</td>\n",
       "      <td>128.920</td>\n",
       "      <td>1.0</td>\n",
       "    </tr>\n",
       "    <tr>\n",
       "      <td>2002-05-09 06:00:00</td>\n",
       "      <td>128.380</td>\n",
       "      <td>128.380</td>\n",
       "      <td>128.380</td>\n",
       "      <td>128.380</td>\n",
       "      <td>1.0</td>\n",
       "    </tr>\n",
       "    <tr>\n",
       "      <td>2002-05-10 06:00:00</td>\n",
       "      <td>127.630</td>\n",
       "      <td>127.630</td>\n",
       "      <td>127.630</td>\n",
       "      <td>127.630</td>\n",
       "      <td>1.0</td>\n",
       "    </tr>\n",
       "    <tr>\n",
       "      <td>2002-05-11 06:00:00</td>\n",
       "      <td>127.620</td>\n",
       "      <td>127.620</td>\n",
       "      <td>127.620</td>\n",
       "      <td>127.620</td>\n",
       "      <td>1.0</td>\n",
       "    </tr>\n",
       "    <tr>\n",
       "      <td>...</td>\n",
       "      <td>...</td>\n",
       "      <td>...</td>\n",
       "      <td>...</td>\n",
       "      <td>...</td>\n",
       "      <td>...</td>\n",
       "    </tr>\n",
       "    <tr>\n",
       "      <td>2020-02-03 07:00:00</td>\n",
       "      <td>108.432</td>\n",
       "      <td>108.799</td>\n",
       "      <td>108.318</td>\n",
       "      <td>108.683</td>\n",
       "      <td>85789.0</td>\n",
       "    </tr>\n",
       "    <tr>\n",
       "      <td>2020-02-04 07:00:00</td>\n",
       "      <td>108.688</td>\n",
       "      <td>109.546</td>\n",
       "      <td>108.550</td>\n",
       "      <td>109.525</td>\n",
       "      <td>66432.0</td>\n",
       "    </tr>\n",
       "    <tr>\n",
       "      <td>2020-02-05 07:00:00</td>\n",
       "      <td>109.524</td>\n",
       "      <td>109.848</td>\n",
       "      <td>109.304</td>\n",
       "      <td>109.830</td>\n",
       "      <td>77095.0</td>\n",
       "    </tr>\n",
       "    <tr>\n",
       "      <td>2020-02-06 07:00:00</td>\n",
       "      <td>109.824</td>\n",
       "      <td>110.004</td>\n",
       "      <td>109.743</td>\n",
       "      <td>109.996</td>\n",
       "      <td>55418.0</td>\n",
       "    </tr>\n",
       "    <tr>\n",
       "      <td>2020-02-07 07:00:00</td>\n",
       "      <td>109.992</td>\n",
       "      <td>110.022</td>\n",
       "      <td>109.964</td>\n",
       "      <td>109.965</td>\n",
       "      <td>879.0</td>\n",
       "    </tr>\n",
       "  </tbody>\n",
       "</table>\n",
       "<p>5435 rows × 5 columns</p>\n",
       "</div>"
      ],
      "text/plain": [
       "                        open     high      low    close   amount\n",
       "time                                                            \n",
       "2002-05-07 06:00:00  127.920  127.920  127.920  127.920      1.0\n",
       "2002-05-08 06:00:00  128.920  128.920  128.920  128.920      1.0\n",
       "2002-05-09 06:00:00  128.380  128.380  128.380  128.380      1.0\n",
       "2002-05-10 06:00:00  127.630  127.630  127.630  127.630      1.0\n",
       "2002-05-11 06:00:00  127.620  127.620  127.620  127.620      1.0\n",
       "...                      ...      ...      ...      ...      ...\n",
       "2020-02-03 07:00:00  108.432  108.799  108.318  108.683  85789.0\n",
       "2020-02-04 07:00:00  108.688  109.546  108.550  109.525  66432.0\n",
       "2020-02-05 07:00:00  109.524  109.848  109.304  109.830  77095.0\n",
       "2020-02-06 07:00:00  109.824  110.004  109.743  109.996  55418.0\n",
       "2020-02-07 07:00:00  109.992  110.022  109.964  109.965    879.0\n",
       "\n",
       "[5435 rows x 5 columns]"
      ]
     },
     "execution_count": 6,
     "metadata": {},
     "output_type": "execute_result"
    }
   ],
   "source": [
    "df_new = df.drop(columns=['complete'])\n",
    "df_new"
   ]
  },
  {
   "cell_type": "markdown",
   "metadata": {},
   "source": [
    "# Split data to training data and test data"
   ]
  },
  {
   "cell_type": "code",
   "execution_count": 7,
   "metadata": {},
   "outputs": [],
   "source": [
    "from sklearn.model_selection import train_test_split\n",
    "train, test = train_test_split(df_new, test_size=0.20, shuffle=False)"
   ]
  },
  {
   "cell_type": "code",
   "execution_count": 8,
   "metadata": {},
   "outputs": [
    {
     "data": {
      "text/html": [
       "<div>\n",
       "<style scoped>\n",
       "    .dataframe tbody tr th:only-of-type {\n",
       "        vertical-align: middle;\n",
       "    }\n",
       "\n",
       "    .dataframe tbody tr th {\n",
       "        vertical-align: top;\n",
       "    }\n",
       "\n",
       "    .dataframe thead th {\n",
       "        text-align: right;\n",
       "    }\n",
       "</style>\n",
       "<table border=\"1\" class=\"dataframe\">\n",
       "  <thead>\n",
       "    <tr style=\"text-align: right;\">\n",
       "      <th></th>\n",
       "      <th>open</th>\n",
       "      <th>high</th>\n",
       "      <th>low</th>\n",
       "      <th>close</th>\n",
       "      <th>amount</th>\n",
       "    </tr>\n",
       "    <tr>\n",
       "      <th>time</th>\n",
       "      <th></th>\n",
       "      <th></th>\n",
       "      <th></th>\n",
       "      <th></th>\n",
       "      <th></th>\n",
       "    </tr>\n",
       "  </thead>\n",
       "  <tbody>\n",
       "    <tr>\n",
       "      <td>2002-05-07 06:00:00</td>\n",
       "      <td>127.920</td>\n",
       "      <td>127.920</td>\n",
       "      <td>127.920</td>\n",
       "      <td>127.920</td>\n",
       "      <td>1.0</td>\n",
       "    </tr>\n",
       "    <tr>\n",
       "      <td>2002-05-08 06:00:00</td>\n",
       "      <td>128.920</td>\n",
       "      <td>128.920</td>\n",
       "      <td>128.920</td>\n",
       "      <td>128.920</td>\n",
       "      <td>1.0</td>\n",
       "    </tr>\n",
       "    <tr>\n",
       "      <td>2002-05-09 06:00:00</td>\n",
       "      <td>128.380</td>\n",
       "      <td>128.380</td>\n",
       "      <td>128.380</td>\n",
       "      <td>128.380</td>\n",
       "      <td>1.0</td>\n",
       "    </tr>\n",
       "    <tr>\n",
       "      <td>2002-05-10 06:00:00</td>\n",
       "      <td>127.630</td>\n",
       "      <td>127.630</td>\n",
       "      <td>127.630</td>\n",
       "      <td>127.630</td>\n",
       "      <td>1.0</td>\n",
       "    </tr>\n",
       "    <tr>\n",
       "      <td>2002-05-11 06:00:00</td>\n",
       "      <td>127.620</td>\n",
       "      <td>127.620</td>\n",
       "      <td>127.620</td>\n",
       "      <td>127.620</td>\n",
       "      <td>1.0</td>\n",
       "    </tr>\n",
       "    <tr>\n",
       "      <td>...</td>\n",
       "      <td>...</td>\n",
       "      <td>...</td>\n",
       "      <td>...</td>\n",
       "      <td>...</td>\n",
       "      <td>...</td>\n",
       "    </tr>\n",
       "    <tr>\n",
       "      <td>2015-12-16 07:00:00</td>\n",
       "      <td>121.691</td>\n",
       "      <td>122.432</td>\n",
       "      <td>121.384</td>\n",
       "      <td>122.208</td>\n",
       "      <td>48842.0</td>\n",
       "    </tr>\n",
       "    <tr>\n",
       "      <td>2015-12-17 07:00:00</td>\n",
       "      <td>122.236</td>\n",
       "      <td>122.877</td>\n",
       "      <td>122.198</td>\n",
       "      <td>122.560</td>\n",
       "      <td>29109.0</td>\n",
       "    </tr>\n",
       "    <tr>\n",
       "      <td>2015-12-18 07:00:00</td>\n",
       "      <td>122.551</td>\n",
       "      <td>123.566</td>\n",
       "      <td>121.060</td>\n",
       "      <td>121.163</td>\n",
       "      <td>71043.0</td>\n",
       "    </tr>\n",
       "    <tr>\n",
       "      <td>2015-12-21 07:00:00</td>\n",
       "      <td>121.234</td>\n",
       "      <td>121.507</td>\n",
       "      <td>120.843</td>\n",
       "      <td>121.184</td>\n",
       "      <td>26327.0</td>\n",
       "    </tr>\n",
       "    <tr>\n",
       "      <td>2015-12-22 07:00:00</td>\n",
       "      <td>121.204</td>\n",
       "      <td>121.308</td>\n",
       "      <td>120.726</td>\n",
       "      <td>121.070</td>\n",
       "      <td>21017.0</td>\n",
       "    </tr>\n",
       "  </tbody>\n",
       "</table>\n",
       "<p>4348 rows × 5 columns</p>\n",
       "</div>"
      ],
      "text/plain": [
       "                        open     high      low    close   amount\n",
       "time                                                            \n",
       "2002-05-07 06:00:00  127.920  127.920  127.920  127.920      1.0\n",
       "2002-05-08 06:00:00  128.920  128.920  128.920  128.920      1.0\n",
       "2002-05-09 06:00:00  128.380  128.380  128.380  128.380      1.0\n",
       "2002-05-10 06:00:00  127.630  127.630  127.630  127.630      1.0\n",
       "2002-05-11 06:00:00  127.620  127.620  127.620  127.620      1.0\n",
       "...                      ...      ...      ...      ...      ...\n",
       "2015-12-16 07:00:00  121.691  122.432  121.384  122.208  48842.0\n",
       "2015-12-17 07:00:00  122.236  122.877  122.198  122.560  29109.0\n",
       "2015-12-18 07:00:00  122.551  123.566  121.060  121.163  71043.0\n",
       "2015-12-21 07:00:00  121.234  121.507  120.843  121.184  26327.0\n",
       "2015-12-22 07:00:00  121.204  121.308  120.726  121.070  21017.0\n",
       "\n",
       "[4348 rows x 5 columns]"
      ]
     },
     "execution_count": 8,
     "metadata": {},
     "output_type": "execute_result"
    }
   ],
   "source": [
    "train"
   ]
  },
  {
   "cell_type": "code",
   "execution_count": 9,
   "metadata": {},
   "outputs": [
    {
     "data": {
      "text/html": [
       "<div>\n",
       "<style scoped>\n",
       "    .dataframe tbody tr th:only-of-type {\n",
       "        vertical-align: middle;\n",
       "    }\n",
       "\n",
       "    .dataframe tbody tr th {\n",
       "        vertical-align: top;\n",
       "    }\n",
       "\n",
       "    .dataframe thead th {\n",
       "        text-align: right;\n",
       "    }\n",
       "</style>\n",
       "<table border=\"1\" class=\"dataframe\">\n",
       "  <thead>\n",
       "    <tr style=\"text-align: right;\">\n",
       "      <th></th>\n",
       "      <th>open</th>\n",
       "      <th>high</th>\n",
       "      <th>low</th>\n",
       "      <th>close</th>\n",
       "      <th>amount</th>\n",
       "    </tr>\n",
       "    <tr>\n",
       "      <th>time</th>\n",
       "      <th></th>\n",
       "      <th></th>\n",
       "      <th></th>\n",
       "      <th></th>\n",
       "      <th></th>\n",
       "    </tr>\n",
       "  </thead>\n",
       "  <tbody>\n",
       "    <tr>\n",
       "      <td>2015-12-23 07:00:00</td>\n",
       "      <td>121.058</td>\n",
       "      <td>121.137</td>\n",
       "      <td>120.814</td>\n",
       "      <td>120.918</td>\n",
       "      <td>12937.0</td>\n",
       "    </tr>\n",
       "    <tr>\n",
       "      <td>2015-12-24 07:00:00</td>\n",
       "      <td>120.930</td>\n",
       "      <td>120.982</td>\n",
       "      <td>120.250</td>\n",
       "      <td>120.283</td>\n",
       "      <td>16225.0</td>\n",
       "    </tr>\n",
       "    <tr>\n",
       "      <td>2015-12-28 07:00:00</td>\n",
       "      <td>120.282</td>\n",
       "      <td>120.628</td>\n",
       "      <td>120.167</td>\n",
       "      <td>120.393</td>\n",
       "      <td>14329.0</td>\n",
       "    </tr>\n",
       "    <tr>\n",
       "      <td>2015-12-29 07:00:00</td>\n",
       "      <td>120.404</td>\n",
       "      <td>120.508</td>\n",
       "      <td>120.236</td>\n",
       "      <td>120.460</td>\n",
       "      <td>12195.0</td>\n",
       "    </tr>\n",
       "    <tr>\n",
       "      <td>2015-12-30 07:00:00</td>\n",
       "      <td>120.450</td>\n",
       "      <td>120.656</td>\n",
       "      <td>120.352</td>\n",
       "      <td>120.534</td>\n",
       "      <td>10635.0</td>\n",
       "    </tr>\n",
       "    <tr>\n",
       "      <td>...</td>\n",
       "      <td>...</td>\n",
       "      <td>...</td>\n",
       "      <td>...</td>\n",
       "      <td>...</td>\n",
       "      <td>...</td>\n",
       "    </tr>\n",
       "    <tr>\n",
       "      <td>2020-02-03 07:00:00</td>\n",
       "      <td>108.432</td>\n",
       "      <td>108.799</td>\n",
       "      <td>108.318</td>\n",
       "      <td>108.683</td>\n",
       "      <td>85789.0</td>\n",
       "    </tr>\n",
       "    <tr>\n",
       "      <td>2020-02-04 07:00:00</td>\n",
       "      <td>108.688</td>\n",
       "      <td>109.546</td>\n",
       "      <td>108.550</td>\n",
       "      <td>109.525</td>\n",
       "      <td>66432.0</td>\n",
       "    </tr>\n",
       "    <tr>\n",
       "      <td>2020-02-05 07:00:00</td>\n",
       "      <td>109.524</td>\n",
       "      <td>109.848</td>\n",
       "      <td>109.304</td>\n",
       "      <td>109.830</td>\n",
       "      <td>77095.0</td>\n",
       "    </tr>\n",
       "    <tr>\n",
       "      <td>2020-02-06 07:00:00</td>\n",
       "      <td>109.824</td>\n",
       "      <td>110.004</td>\n",
       "      <td>109.743</td>\n",
       "      <td>109.996</td>\n",
       "      <td>55418.0</td>\n",
       "    </tr>\n",
       "    <tr>\n",
       "      <td>2020-02-07 07:00:00</td>\n",
       "      <td>109.992</td>\n",
       "      <td>110.022</td>\n",
       "      <td>109.964</td>\n",
       "      <td>109.965</td>\n",
       "      <td>879.0</td>\n",
       "    </tr>\n",
       "  </tbody>\n",
       "</table>\n",
       "<p>1087 rows × 5 columns</p>\n",
       "</div>"
      ],
      "text/plain": [
       "                        open     high      low    close   amount\n",
       "time                                                            \n",
       "2015-12-23 07:00:00  121.058  121.137  120.814  120.918  12937.0\n",
       "2015-12-24 07:00:00  120.930  120.982  120.250  120.283  16225.0\n",
       "2015-12-28 07:00:00  120.282  120.628  120.167  120.393  14329.0\n",
       "2015-12-29 07:00:00  120.404  120.508  120.236  120.460  12195.0\n",
       "2015-12-30 07:00:00  120.450  120.656  120.352  120.534  10635.0\n",
       "...                      ...      ...      ...      ...      ...\n",
       "2020-02-03 07:00:00  108.432  108.799  108.318  108.683  85789.0\n",
       "2020-02-04 07:00:00  108.688  109.546  108.550  109.525  66432.0\n",
       "2020-02-05 07:00:00  109.524  109.848  109.304  109.830  77095.0\n",
       "2020-02-06 07:00:00  109.824  110.004  109.743  109.996  55418.0\n",
       "2020-02-07 07:00:00  109.992  110.022  109.964  109.965    879.0\n",
       "\n",
       "[1087 rows x 5 columns]"
      ]
     },
     "execution_count": 9,
     "metadata": {},
     "output_type": "execute_result"
    }
   ],
   "source": [
    "test"
   ]
  },
  {
   "cell_type": "code",
   "execution_count": 10,
   "metadata": {},
   "outputs": [
    {
     "data": {
      "text/plain": [
       "((4348, 5), (1087, 5))"
      ]
     },
     "execution_count": 10,
     "metadata": {},
     "output_type": "execute_result"
    }
   ],
   "source": [
    "train.shape, test.shape"
   ]
  },
  {
   "cell_type": "markdown",
   "metadata": {},
   "source": [
    "# Set window size"
   ]
  },
  {
   "cell_type": "code",
   "execution_count": 12,
   "metadata": {},
   "outputs": [],
   "source": [
    "window_len = 72"
   ]
  },
  {
   "cell_type": "markdown",
   "metadata": {},
   "source": [
    "# Preprocess the data"
   ]
  },
  {
   "cell_type": "code",
   "execution_count": 13,
   "metadata": {},
   "outputs": [],
   "source": [
    "train_lstm_in = []\n",
    "for i in range(len(train)-window_len):\n",
    "    temp = train[i:(i+window_len)].copy()\n",
    "    for col in train:\n",
    "        temp.loc[:, col] = temp[col] / temp[col].iloc[0] - 1\n",
    "    train_lstm_in.append(temp)\n",
    "lstm_train_out = (train['close'][window_len:].values / train['close'][:-window_len].values)-1\n",
    "\n",
    "test_lstm_in = []\n",
    "for i in range(len(test) - window_len):\n",
    "    temp = test[i:(i + window_len)].copy()\n",
    "    for col in test:\n",
    "        temp.loc[:, col] = temp[col] / temp[col].iloc[0] - 1\n",
    "    test_lstm_in.append(temp)\n",
    "lstm_test_out = (test['close'][window_len:].values / test['close'][:-window_len].values)-1"
   ]
  },
  {
   "cell_type": "markdown",
   "metadata": {},
   "source": [
    "# Convert the lists into numpy arrays"
   ]
  },
  {
   "cell_type": "code",
   "execution_count": 17,
   "metadata": {},
   "outputs": [],
   "source": [
    "train_lstm_in = [np.array(train_lstm_input) for train_lstm_input in train_lstm_in]\n",
    "train_lstm_in = np.array(train_lstm_in)\n",
    "\n",
    "test_lstm_in = [np.array(test_lstm_input) for test_lstm_input in test_lstm_in]\n",
    "test_lstm_in = np.array(test_lstm_in)"
   ]
  },
  {
   "cell_type": "markdown",
   "metadata": {},
   "source": [
    "# (The length of data - Window size, Window size, The number of features)"
   ]
  },
  {
   "cell_type": "code",
   "execution_count": 21,
   "metadata": {},
   "outputs": [
    {
     "data": {
      "text/plain": [
       "(4276, 72, 5)"
      ]
     },
     "execution_count": 21,
     "metadata": {},
     "output_type": "execute_result"
    }
   ],
   "source": [
    "train_lstm_in.shape"
   ]
  },
  {
   "cell_type": "code",
   "execution_count": 22,
   "metadata": {},
   "outputs": [
    {
     "data": {
      "text/plain": [
       "(1015, 72, 5)"
      ]
     },
     "execution_count": 22,
     "metadata": {},
     "output_type": "execute_result"
    }
   ],
   "source": [
    "test_lstm_in.shape"
   ]
  },
  {
   "cell_type": "markdown",
   "metadata": {},
   "source": [
    "# Import keras libraries"
   ]
  },
  {
   "cell_type": "code",
   "execution_count": 24,
   "metadata": {},
   "outputs": [
    {
     "name": "stderr",
     "output_type": "stream",
     "text": [
      "Using TensorFlow backend.\n"
     ]
    }
   ],
   "source": [
    "from keras.models import Sequential\n",
    "from keras.layers import Activation, Dense\n",
    "from keras.layers import LSTM\n",
    "from keras.layers import Dropout"
   ]
  },
  {
   "cell_type": "markdown",
   "metadata": {},
   "source": [
    "# Click the link below to check library info about LSTM\n",
    "# <a href=\"https://keras.io/layers/recurrent/\">Keras Documentation about LSTM</a>"
   ]
  },
  {
   "cell_type": "code",
   "execution_count": 25,
   "metadata": {},
   "outputs": [
    {
     "name": "stdout",
     "output_type": "stream",
     "text": [
      "Model: \"sequential_1\"\n",
      "_________________________________________________________________\n",
      "Layer (type)                 Output Shape              Param #   \n",
      "=================================================================\n",
      "lstm_1 (LSTM)                (None, 72, 50)            11200     \n",
      "_________________________________________________________________\n",
      "dropout_1 (Dropout)          (None, 72, 50)            0         \n",
      "_________________________________________________________________\n",
      "lstm_2 (LSTM)                (None, 72, 50)            20200     \n",
      "_________________________________________________________________\n",
      "dropout_2 (Dropout)          (None, 72, 50)            0         \n",
      "_________________________________________________________________\n",
      "lstm_3 (LSTM)                (None, 72, 50)            20200     \n",
      "_________________________________________________________________\n",
      "dropout_3 (Dropout)          (None, 72, 50)            0         \n",
      "_________________________________________________________________\n",
      "lstm_4 (LSTM)                (None, 50)                20200     \n",
      "_________________________________________________________________\n",
      "dropout_4 (Dropout)          (None, 50)                0         \n",
      "_________________________________________________________________\n",
      "dense_1 (Dense)              (None, 1)                 51        \n",
      "_________________________________________________________________\n",
      "activation_1 (Activation)    (None, 1)                 0         \n",
      "=================================================================\n",
      "Total params: 71,851\n",
      "Trainable params: 71,851\n",
      "Non-trainable params: 0\n",
      "_________________________________________________________________\n"
     ]
    }
   ],
   "source": [
    "def build_model(inputs, output_size, neurons, activ_func=\"linear\",\n",
    "               dropout=0.25, loss=\"mae\", optimizer=\"adam\"):\n",
    "    model = Sequential()\n",
    "    \n",
    "    model.add(LSTM(neurons, return_sequences=True, input_shape = (inputs.shape[1], inputs.shape[2])))\n",
    "    model.add(Dropout(dropout))\n",
    "\n",
    "    model.add(LSTM(neurons, return_sequences=True))\n",
    "    model.add(Dropout(dropout))\n",
    "\n",
    "    model.add(LSTM(neurons, return_sequences=True))\n",
    "    model.add(Dropout(dropout))\n",
    "\n",
    "    model.add(LSTM(neurons))\n",
    "    model.add(Dropout(dropout))\n",
    "\n",
    "    model.add(Dense(units=output_size))\n",
    "    model.add(Activation(activ_func))\n",
    "    \n",
    "#     model.add(LSTM(neurons, input_shape=(inputs.shape[1], inputs.shape[2])))\n",
    "#     model.add(Dropout(dropout))\n",
    "#     model.add(Dense(units=output_size))\n",
    "#     model.add(Activation(activ_func))\n",
    "    \n",
    "    model.compile(loss=loss, optimizer=optimizer)\n",
    "    return model\n",
    "\n",
    "np.random.seed(202)\n",
    "\n",
    "yen_model = build_model(train_lstm_in, output_size=1, neurons=50)\n",
    "\n",
    "yen_model.summary()"
   ]
  },
  {
   "cell_type": "code",
   "execution_count": null,
   "metadata": {},
   "outputs": [],
   "source": [
    "yen_history = yen_model.fit(train_lstm_in, lstm_train_out, epochs=100, batch_size=32, verbose=1, shuffle=True)"
   ]
  },
  {
   "cell_type": "markdown",
   "metadata": {},
   "source": [
    "# Visualize the loss function"
   ]
  },
  {
   "cell_type": "code",
   "execution_count": null,
   "metadata": {},
   "outputs": [],
   "source": [
    "fig, ax1 = plt.subplots(1,1)\n",
    "\n",
    "ax1.plot(yen_history.epoch, yen_history.history['loss'])\n",
    "ax1.set_title('TrainingError')\n",
    "\n",
    "if yen_model.loss == 'mae':\n",
    "    ax1.set_ylabel('Mean Absolute Error (MAE)',fontsize=12)\n",
    "else:\n",
    "    ax1.set_ylabel('Model Loss',fontsize=12)\n",
    "ax1.set_xlabel('# Epochs',fontsize=12)\n",
    "plt.show()"
   ]
  },
  {
   "cell_type": "markdown",
   "metadata": {},
   "source": [
    "# Visualize the Training data and Prediction"
   ]
  },
  {
   "cell_type": "code",
   "execution_count": null,
   "metadata": {},
   "outputs": [],
   "source": [
    "from statsmodels.tools.eval_measures import rmse\n",
    "fig, ax1 = plt.subplots(1,1,figsize=(12,8))\n",
    "ax1.plot(train.index[window_len:],\n",
    "    train['close'][window_len:], label='Actual', color='blue', )\n",
    "ax1.legend()\n",
    "ax1.plot(train.index[window_len:],\n",
    "    ((np.transpose(yen_model.predict(train_lstm_in))+1)*train['close'].values[:-window_len])[0],\n",
    "            label='Predicted', color='red')\n",
    "ax1.legend()\n",
    "ax1.set_title('Prediction for Training Data({})'.format(instrument))\n",
    "ax1.grid(True)\n",
    "\n",
    "error_train = rmse(train['close'][window_len:], ((np.transpose(yen_model.predict(train_lstm_in))+1)*train['close'].values[:-window_len])[0])\n",
    "print('STD of train data[close]: {}'.format(train['close'].std()))\n",
    "print(f'RMSE: {error_train}')\n",
    "per = round(error_train/train['close'].std()*100, 2)\n",
    "print('Percentage RMSE/STD: {}%'.format(per))"
   ]
  },
  {
   "cell_type": "markdown",
   "metadata": {},
   "source": [
    "# Visualize the Test data and Prediction"
   ]
  },
  {
   "cell_type": "code",
   "execution_count": null,
   "metadata": {},
   "outputs": [],
   "source": [
    "fig, ax1 = plt.subplots(1,1,figsize=(12,8))\n",
    "ax1.plot(test.index[window_len:],\n",
    "    test['close'][window_len:], label='Actual', color='blue')\n",
    "ax1.legend()\n",
    "ax1.plot(test.index[window_len:],\n",
    "    ((np.transpose(yen_model.predict(test_lstm_in))+1)*test['close'].values[:-window_len])[0],\n",
    "            label='Predicted', color='red')\n",
    "ax1.legend()\n",
    "ax1.set_title('Prediction for Test Data({})'.format(instrument))\n",
    "ax1.grid(True)\n",
    "\n",
    "error_test = rmse(test['close'][window_len:], ((np.transpose(yen_model.predict(test_lstm_in))+1)*test['close'].values[:-window_len])[0])\n",
    "print('STD of test data[close]: {}'.format(test['close'].std()))\n",
    "print(f'RMSE: {error_test}')\n",
    "per = round(error_test/test['close'].std()*100, 2)\n",
    "print('Percentage RMSE/STD: {}%'.format(per))"
   ]
  },
  {
   "cell_type": "markdown",
   "metadata": {},
   "source": [
    "# Use the code below to save the model"
   ]
  },
  {
   "cell_type": "code",
   "execution_count": null,
   "metadata": {},
   "outputs": [],
   "source": [
    "# yen_model.save(\"LSTM_FX_Model\")"
   ]
  },
  {
   "cell_type": "markdown",
   "metadata": {},
   "source": [
    "# Use the code below to load the saved model file"
   ]
  },
  {
   "cell_type": "code",
   "execution_count": null,
   "metadata": {},
   "outputs": [],
   "source": [
    "# from keras.models import load_model\n",
    "# model = load_model(\"LSTM_FX_Model\")\n",
    "# model"
   ]
  },
  {
   "cell_type": "code",
   "execution_count": null,
   "metadata": {},
   "outputs": [],
   "source": [
    "# model.summary()"
   ]
  },
  {
   "cell_type": "code",
   "execution_count": null,
   "metadata": {},
   "outputs": [],
   "source": []
  },
  {
   "cell_type": "code",
   "execution_count": null,
   "metadata": {},
   "outputs": [],
   "source": []
  },
  {
   "cell_type": "code",
   "execution_count": null,
   "metadata": {},
   "outputs": [],
   "source": []
  },
  {
   "cell_type": "code",
   "execution_count": null,
   "metadata": {},
   "outputs": [],
   "source": []
  },
  {
   "cell_type": "code",
   "execution_count": null,
   "metadata": {},
   "outputs": [],
   "source": []
  }
 ],
 "metadata": {
  "kernelspec": {
   "display_name": "Python 3",
   "language": "python",
   "name": "python3"
  },
  "language_info": {
   "codemirror_mode": {
    "name": "ipython",
    "version": 3
   },
   "file_extension": ".py",
   "mimetype": "text/x-python",
   "name": "python",
   "nbconvert_exporter": "python",
   "pygments_lexer": "ipython3",
   "version": "3.7.4"
  }
 },
 "nbformat": 4,
 "nbformat_minor": 2
}
