{
 "cells": [
  {
   "cell_type": "code",
   "execution_count": 1,
   "metadata": {},
   "outputs": [],
   "source": [
    "import pandas as pd\n",
    "import numpy as np\n",
    "\n",
    "df = pd.read_csv('2018-08-14_06_00_00_2020-01-02_19_00_00_H1.csv')"
   ]
  },
  {
   "cell_type": "code",
   "execution_count": 2,
   "metadata": {},
   "outputs": [
    {
     "data": {
      "text/html": [
       "<div>\n",
       "<style scoped>\n",
       "    .dataframe tbody tr th:only-of-type {\n",
       "        vertical-align: middle;\n",
       "    }\n",
       "\n",
       "    .dataframe tbody tr th {\n",
       "        vertical-align: top;\n",
       "    }\n",
       "\n",
       "    .dataframe thead th {\n",
       "        text-align: right;\n",
       "    }\n",
       "</style>\n",
       "<table border=\"1\" class=\"dataframe\">\n",
       "  <thead>\n",
       "    <tr style=\"text-align: right;\">\n",
       "      <th></th>\n",
       "      <th>open</th>\n",
       "      <th>high</th>\n",
       "      <th>low</th>\n",
       "      <th>close</th>\n",
       "    </tr>\n",
       "    <tr>\n",
       "      <th>datetime</th>\n",
       "      <th></th>\n",
       "      <th></th>\n",
       "      <th></th>\n",
       "      <th></th>\n",
       "    </tr>\n",
       "  </thead>\n",
       "  <tbody>\n",
       "    <tr>\n",
       "      <td>2018-08-14 07:00:00</td>\n",
       "      <td>110.748</td>\n",
       "      <td>110.772</td>\n",
       "      <td>110.712</td>\n",
       "      <td>110.724</td>\n",
       "    </tr>\n",
       "    <tr>\n",
       "      <td>2018-08-14 08:00:00</td>\n",
       "      <td>110.722</td>\n",
       "      <td>110.724</td>\n",
       "      <td>110.602</td>\n",
       "      <td>110.631</td>\n",
       "    </tr>\n",
       "    <tr>\n",
       "      <td>2018-08-14 09:00:00</td>\n",
       "      <td>110.633</td>\n",
       "      <td>110.832</td>\n",
       "      <td>110.589</td>\n",
       "      <td>110.787</td>\n",
       "    </tr>\n",
       "    <tr>\n",
       "      <td>2018-08-14 10:00:00</td>\n",
       "      <td>110.790</td>\n",
       "      <td>110.868</td>\n",
       "      <td>110.700</td>\n",
       "      <td>110.780</td>\n",
       "    </tr>\n",
       "    <tr>\n",
       "      <td>2018-08-14 11:00:00</td>\n",
       "      <td>110.778</td>\n",
       "      <td>110.823</td>\n",
       "      <td>110.719</td>\n",
       "      <td>110.772</td>\n",
       "    </tr>\n",
       "  </tbody>\n",
       "</table>\n",
       "</div>"
      ],
      "text/plain": [
       "                        open     high      low    close\n",
       "datetime                                               \n",
       "2018-08-14 07:00:00  110.748  110.772  110.712  110.724\n",
       "2018-08-14 08:00:00  110.722  110.724  110.602  110.631\n",
       "2018-08-14 09:00:00  110.633  110.832  110.589  110.787\n",
       "2018-08-14 10:00:00  110.790  110.868  110.700  110.780\n",
       "2018-08-14 11:00:00  110.778  110.823  110.719  110.772"
      ]
     },
     "execution_count": 2,
     "metadata": {},
     "output_type": "execute_result"
    }
   ],
   "source": [
    "df.drop(axis=1,columns=['amount', 'complete'], inplace=True)\n",
    "df['datetime'] = pd.to_datetime(df['time'])\n",
    "df = df.set_index('datetime')\n",
    "df.drop(['time'], axis=1, inplace=True)\n",
    "df_feats = df.iloc[1:]\n",
    "df_feats.head()\n",
    "#df_feats.shape"
   ]
  },
  {
   "cell_type": "code",
   "execution_count": 3,
   "metadata": {
    "scrolled": true
   },
   "outputs": [
    {
     "data": {
      "text/plain": [
       "datetime\n",
       "2018-08-14 07:00:00    1\n",
       "2018-08-14 08:00:00    0\n",
       "2018-08-14 09:00:00    0\n",
       "2018-08-14 10:00:00    1\n",
       "2018-08-14 11:00:00    0\n",
       "Name: open, dtype: int32"
      ]
     },
     "execution_count": 3,
     "metadata": {},
     "output_type": "execute_result"
    }
   ],
   "source": [
    "df1 = df.diff()\n",
    "df2 = df1.iloc[1:]\n",
    "df3 = df2['open']>0\n",
    "df4 = df3.astype('int', copy=False)\n",
    "df4.head()\n",
    "#df4.shape"
   ]
  },
  {
   "cell_type": "code",
   "execution_count": 4,
   "metadata": {},
   "outputs": [],
   "source": [
    "from sklearn import model_selection\n",
    "from sklearn.ensemble import RandomForestClassifier\n",
    "from sklearn.datasets import make_classification"
   ]
  },
  {
   "cell_type": "code",
   "execution_count": 5,
   "metadata": {},
   "outputs": [],
   "source": [
    "X = df_feats\n",
    "y = df4\n",
    "\n",
    "X_train, X_test, y_train, y_test = model_selection.train_test_split(X, y, test_size=0.2, random_state=5)"
   ]
  },
  {
   "cell_type": "code",
   "execution_count": 6,
   "metadata": {},
   "outputs": [
    {
     "data": {
      "text/plain": [
       "RandomForestClassifier(bootstrap=True, class_weight=None, criterion='gini',\n",
       "                       max_depth=None, max_features='auto', max_leaf_nodes=None,\n",
       "                       min_impurity_decrease=0.0, min_impurity_split=None,\n",
       "                       min_samples_leaf=1, min_samples_split=2,\n",
       "                       min_weight_fraction_leaf=0.0, n_estimators=600,\n",
       "                       n_jobs=None, oob_score=False, random_state=None,\n",
       "                       verbose=0, warm_start=False)"
      ]
     },
     "execution_count": 6,
     "metadata": {},
     "output_type": "execute_result"
    }
   ],
   "source": [
    "rfc = RandomForestClassifier(n_estimators=600)\n",
    "rfc.fit(X_train,y_train)"
   ]
  },
  {
   "cell_type": "code",
   "execution_count": 7,
   "metadata": {},
   "outputs": [],
   "source": [
    "rfc_pred = rfc.predict(X_test)"
   ]
  },
  {
   "cell_type": "code",
   "execution_count": 8,
   "metadata": {},
   "outputs": [
    {
     "name": "stdout",
     "output_type": "stream",
     "text": [
      "              precision    recall  f1-score   support\n",
      "\n",
      "           0       0.51      0.51      0.51       870\n",
      "           1       0.50      0.51      0.51       854\n",
      "\n",
      "    accuracy                           0.51      1724\n",
      "   macro avg       0.51      0.51      0.51      1724\n",
      "weighted avg       0.51      0.51      0.51      1724\n",
      "\n"
     ]
    }
   ],
   "source": [
    "from sklearn.metrics import classification_report,confusion_matrix\n",
    "print(classification_report(y_test,rfc_pred))"
   ]
  },
  {
   "cell_type": "code",
   "execution_count": 9,
   "metadata": {},
   "outputs": [
    {
     "name": "stdout",
     "output_type": "stream",
     "text": [
      "[[440 430]\n",
      " [420 434]]\n"
     ]
    }
   ],
   "source": [
    "print(confusion_matrix(y_test,rfc_pred))"
   ]
  },
  {
   "cell_type": "code",
   "execution_count": null,
   "metadata": {},
   "outputs": [],
   "source": []
  },
  {
   "cell_type": "code",
   "execution_count": null,
   "metadata": {},
   "outputs": [],
   "source": []
  }
 ],
 "metadata": {
  "kernelspec": {
   "display_name": "Python 3",
   "language": "python",
   "name": "python3"
  },
  "language_info": {
   "codemirror_mode": {
    "name": "ipython",
    "version": 3
   },
   "file_extension": ".py",
   "mimetype": "text/x-python",
   "name": "python",
   "nbconvert_exporter": "python",
   "pygments_lexer": "ipython3",
   "version": "3.7.4"
  }
 },
 "nbformat": 4,
 "nbformat_minor": 2
}
